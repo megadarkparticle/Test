{
  "nbformat": 4,
  "nbformat_minor": 0,
  "metadata": {
    "colab": {
      "name": "PyTorch Lab 2 - XOR.ipynb",
      "version": "0.3.2",
      "provenance": [],
      "collapsed_sections": [],
      "include_colab_link": true
    },
    "kernelspec": {
      "name": "python3",
      "display_name": "Python 3"
    }
  },
  "cells": [
    {
      "cell_type": "markdown",
      "metadata": {
        "id": "view-in-github",
        "colab_type": "text"
      },
      "source": [
        "[View in Colaboratory](https://colab.research.google.com/github/megadarkparticle/Test/blob/master/PyTorch_Lab_2_XOR.ipynb)"
      ]
    },
    {
      "metadata": {
        "id": "PRBPKSXa24a-",
        "colab_type": "text"
      },
      "cell_type": "markdown",
      "source": [
        "# PyTorch Lab 2\n",
        "\n",
        "Written by Prachya Boonkwan (Arm)"
      ]
    },
    {
      "metadata": {
        "id": "pCaxA5Pn3pP7",
        "colab_type": "code",
        "colab": {}
      },
      "cell_type": "code",
      "source": [
        "!pip install -q http://download.pytorch.org/whl/cpu/torch-0.4.1-cp36-cp36m-linux_x86_64.whl torchvision tqdm"
      ],
      "execution_count": 0,
      "outputs": []
    },
    {
      "metadata": {
        "id": "7Dj7kWXn24bD",
        "colab_type": "text"
      },
      "cell_type": "markdown",
      "source": [
        "## Learning the XOR Gate"
      ]
    },
    {
      "metadata": {
        "id": "9TZ9YTdk24bH",
        "colab_type": "text"
      },
      "cell_type": "markdown",
      "source": [
        "In this workshop, we are going to imitate the XOR (eXclusive OR) gate with a multilayer perceptron."
      ]
    },
    {
      "metadata": {
        "id": "khDyjgXz24bL",
        "colab_type": "text"
      },
      "cell_type": "markdown",
      "source": [
        "## Header"
      ]
    },
    {
      "metadata": {
        "id": "ZIQNYFlF24bR",
        "colab_type": "text"
      },
      "cell_type": "markdown",
      "source": [
        "This part is the header of the code. My favorite import aliases for PyTorch are as follows. This will be very useful for speed coding."
      ]
    },
    {
      "metadata": {
        "id": "VSb_nQXv24bU",
        "colab_type": "code",
        "colab": {}
      },
      "cell_type": "code",
      "source": [
        "#!/usr/bin/env python3\n",
        "#-*- coding: utf-8 -*-\n",
        "\n",
        "import torch as T\n",
        "import torch.nn as N\n",
        "import torch.optim as O\n",
        "\n",
        "from tqdm import tqdm    # Nice progressbar\n",
        "import matplotlib.pyplot as plt\n",
        "%matplotlib inline\n",
        "\n",
        "import random"
      ],
      "execution_count": 0,
      "outputs": []
    },
    {
      "metadata": {
        "id": "Y-7foEqj24be",
        "colab_type": "text"
      },
      "cell_type": "markdown",
      "source": [
        "-----"
      ]
    },
    {
      "metadata": {
        "id": "Gt1H1TNy24bj",
        "colab_type": "text"
      },
      "cell_type": "markdown",
      "source": [
        "## Neural Networks as Linear Transformation"
      ]
    },
    {
      "metadata": {
        "id": "EEEea_-H24bm",
        "colab_type": "text"
      },
      "cell_type": "markdown",
      "source": [
        "### Linear Layer"
      ]
    },
    {
      "metadata": {
        "id": "QY1O1Hn224bp",
        "colab_type": "text"
      },
      "cell_type": "markdown",
      "source": [
        "In a nutshell, the simplest form of neural networks is a series of linear transformation layers. We can create a linear transformation layer, or *linear layer*, by the command `N.Linear`. For example, this is how we create a linear layer that takes 5 input units and produces 3 output units."
      ]
    },
    {
      "metadata": {
        "id": "1j1xvjcM24br",
        "colab_type": "code",
        "colab": {
          "base_uri": "https://localhost:8080/",
          "height": 34
        },
        "outputId": "d0bd6f9c-8b2a-4220-ec3b-953a7e8774b5"
      },
      "cell_type": "code",
      "source": [
        "linear_layer = N.Linear(5, 3)\n",
        "print(linear_layer)"
      ],
      "execution_count": 19,
      "outputs": [
        {
          "output_type": "stream",
          "text": [
            "Linear(in_features=5, out_features=3, bias=True)\n"
          ],
          "name": "stdout"
        }
      ]
    },
    {
      "metadata": {
        "id": "_mD89A4K24b5",
        "colab_type": "text"
      },
      "cell_type": "markdown",
      "source": [
        "This linear layer takes an input vector of size 5 and produces an output vector of size 3. In fact, a linear layer is equivalent to a matrix of the corresponding size. For example, `N.Linear(5, 3)` is equivalent to a matrix $\\mathbf{A}$ of dimension 5 × 3.\n",
        "\n",
        "$$\n",
        "\\begin{eqnarray}\n",
        "    \\left[ \\mathbf{v}_\\textrm{out} \\right]_{3} & = & \\left( \\mathbf{A}_{5 \\times 3} \\right)^\\top \\times \\left[ \\mathbf{v}_\\textrm{in} \\right]_{5}\n",
        "\\end{eqnarray}\n",
        "$$"
      ]
    },
    {
      "metadata": {
        "id": "9dTnY-cR24b6",
        "colab_type": "code",
        "colab": {
          "base_uri": "https://localhost:8080/",
          "height": 50
        },
        "outputId": "ad67c958-86d7-492f-ebe8-0bf17938600b"
      },
      "cell_type": "code",
      "source": [
        "input_vec = T.FloatTensor([1.0, 2.0, 3.0, 4.0, 5.0])\n",
        "print('input_vec  = {}'.format(input_vec))\n",
        "\n",
        "output_vec = linear_layer(input_vec)\n",
        "print('output_vec = {}'.format(output_vec))"
      ],
      "execution_count": 22,
      "outputs": [
        {
          "output_type": "stream",
          "text": [
            "input_vec  = tensor([1., 2., 3., 4., 5.])\n",
            "output_vec = tensor([-1.0094, -1.6884, -0.2329], grad_fn=<ThAddBackward>)\n"
          ],
          "name": "stdout"
        }
      ]
    },
    {
      "metadata": {
        "id": "K0Zz2t8w24cB",
        "colab_type": "text"
      },
      "cell_type": "markdown",
      "source": [
        "### A Series of Linear Transformation"
      ]
    },
    {
      "metadata": {
        "id": "npgIKWhb24cC",
        "colab_type": "text"
      },
      "cell_type": "markdown",
      "source": [
        "Let's create some more linear layers."
      ]
    },
    {
      "metadata": {
        "id": "TQ5pbNxh24cE",
        "colab_type": "code",
        "colab": {}
      },
      "cell_type": "code",
      "source": [
        "layer1 = N.Linear(5, 3)\n",
        "layer2 = N.Linear(3, 4)"
      ],
      "execution_count": 0,
      "outputs": []
    },
    {
      "metadata": {
        "id": "mGi0tkAa24cJ",
        "colab_type": "text"
      },
      "cell_type": "markdown",
      "source": [
        "We can sequentially feed, or *feed-forward*, an input vector to these layers. Let's see how each step goes."
      ]
    },
    {
      "metadata": {
        "id": "iiIqx_RB24cK",
        "colab_type": "code",
        "colab": {
          "base_uri": "https://localhost:8080/",
          "height": 67
        },
        "outputId": "7c5e7ea4-63b7-4209-9d79-b4d9f0a05a0e"
      },
      "cell_type": "code",
      "source": [
        "input_vec = T.FloatTensor([1.0, 2.0, 3.0, 4.0, 5.0])\n",
        "print('input_vec    = {}'.format(input_vec))\n",
        "\n",
        "output_vec_1 = layer1(input_vec)\n",
        "print('output_vec_1 = {}'.format(output_vec_1))\n",
        "\n",
        "output_vec_2 = layer2(output_vec_1)\n",
        "print('output_vec_2 = {}'.format(output_vec_2))"
      ],
      "execution_count": 25,
      "outputs": [
        {
          "output_type": "stream",
          "text": [
            "input_vec    = tensor([1., 2., 3., 4., 5.])\n",
            "output_vec_1 = tensor([ 3.3542, -1.0751, -0.8419], grad_fn=<ThAddBackward>)\n",
            "output_vec_2 = tensor([ 0.4899, -1.1098, -1.7286,  0.7571], grad_fn=<ThAddBackward>)\n"
          ],
          "name": "stdout"
        }
      ]
    },
    {
      "metadata": {
        "id": "jH0txTXk24cO",
        "colab_type": "text"
      },
      "cell_type": "markdown",
      "source": [
        "Note that we can always print out the output of each step, making it much easier to debug your code in PyTorch than in native Tensorflow."
      ]
    },
    {
      "metadata": {
        "id": "VD6NXmrf24cQ",
        "colab_type": "text"
      },
      "cell_type": "markdown",
      "source": [
        "### Multilayer Perceptron"
      ]
    },
    {
      "metadata": {
        "id": "II4TSnhD24cS",
        "colab_type": "text"
      },
      "cell_type": "markdown",
      "source": [
        "A multilayer perceptron (MLP) comprises a series of linear layers. We can create a MLP with the command `N.Sequential`."
      ]
    },
    {
      "metadata": {
        "id": "Fo1Alf_q24cS",
        "colab_type": "code",
        "colab": {
          "base_uri": "https://localhost:8080/",
          "height": 84
        },
        "outputId": "efaa1827-0878-418e-bc7d-38779e8bce37"
      },
      "cell_type": "code",
      "source": [
        "mlp_model = N.Sequential(\n",
        "    N.Linear(5, 3),\n",
        "    N.Linear(3, 4)\n",
        ")\n",
        "print(mlp_model)"
      ],
      "execution_count": 26,
      "outputs": [
        {
          "output_type": "stream",
          "text": [
            "Sequential(\n",
            "  (0): Linear(in_features=5, out_features=3, bias=True)\n",
            "  (1): Linear(in_features=3, out_features=4, bias=True)\n",
            ")\n"
          ],
          "name": "stdout"
        }
      ]
    },
    {
      "metadata": {
        "id": "v5um_yN424cX",
        "colab_type": "text"
      },
      "cell_type": "markdown",
      "source": [
        "We can feed-forward an input vector to the created MLP and obtain an output vector as well. The produced output vector is a prediction made by the MLP. This is still equivalent to applying a series of linear transformation:\n",
        "\n",
        "$$\n",
        "\\begin{eqnarray}\n",
        "    \\left[ \\mathbf{v}_\\textrm{out} \\right]_4 & = & \\left( \\mathbf{A}_{5 \\times 3} \\times \\mathbf{B}_{3 \\times 4} \\right)^\\top \\times \\left[ \\mathbf{v}_\\textrm{in} \\right]_5\n",
        "\\end{eqnarray}\n",
        "$$\n",
        "\n",
        "where $\\mathbf{A}$ and $\\mathbf{B}$ are linear layers."
      ]
    },
    {
      "metadata": {
        "id": "F-wXuGnN24cZ",
        "colab_type": "code",
        "colab": {
          "base_uri": "https://localhost:8080/",
          "height": 34
        },
        "outputId": "c3dd4485-bf6e-4523-886c-2bb0f74b72a3"
      },
      "cell_type": "code",
      "source": [
        "prediction = mlp_model(input_vec)\n",
        "print('prediction = {}'.format(prediction))"
      ],
      "execution_count": 30,
      "outputs": [
        {
          "output_type": "stream",
          "text": [
            "prediction = tensor([ 0.2653, -0.6934, -0.3878, -0.3192], grad_fn=<ThAddBackward>)\n"
          ],
          "name": "stdout"
        }
      ]
    },
    {
      "metadata": {
        "id": "Hip7vr9e24cd",
        "colab_type": "text"
      },
      "cell_type": "markdown",
      "source": [
        "### Loss Function: Mean Squared Error"
      ]
    },
    {
      "metadata": {
        "id": "lcbmBYk824ce",
        "colab_type": "text"
      },
      "cell_type": "markdown",
      "source": [
        "Next, we want to compute the difference, i.e. the *loss*, between a prediction vector $\\mathbf{y}$ and a desired output vector $\\mathbf{y}'$. In this workshop, we will use the mean squared error (MSE), where we compute the average of squared difference between each element pair $y_i$ and $y'_i$.\n",
        "\n",
        "$$\n",
        "\\begin{eqnarray}\n",
        "    \\mathrm{MSE} & = & \\frac{1}{N} \\sum_{i = 1}^N \\left( y_i - y'_i \\right)^2\n",
        "\\end{eqnarray}\n",
        "$$"
      ]
    },
    {
      "metadata": {
        "id": "4ZeUCAxg24cf",
        "colab_type": "code",
        "colab": {
          "base_uri": "https://localhost:8080/",
          "height": 67
        },
        "outputId": "da5263fc-1a13-4fcb-8cb3-41f2daea2d9b"
      },
      "cell_type": "code",
      "source": [
        "desired_output_vec = T.FloatTensor([4.0, 3.0, 2.0, 1.0])\n",
        "print('prediction = {}'.format(prediction))\n",
        "print('desired_output_vec = {}'.format(desired_output_vec))\n",
        "\n",
        "loss_func = N.MSELoss()\n",
        "\n",
        "loss = loss_func(prediction, desired_output_vec)\n",
        "print('loss = {}'.format(loss))"
      ],
      "execution_count": 35,
      "outputs": [
        {
          "output_type": "stream",
          "text": [
            "prediction = tensor([ 0.2653, -0.6934, -0.3878, -0.3192], grad_fn=<ThAddBackward>)\n",
            "desired_output_vec = tensor([4., 3., 2., 1.])\n",
            "loss = 8.757827758789062\n"
          ],
          "name": "stdout"
        }
      ]
    },
    {
      "metadata": {
        "id": "Jmy3okp924cl",
        "colab_type": "text"
      },
      "cell_type": "markdown",
      "source": [
        "### Parameter Optimization"
      ]
    },
    {
      "metadata": {
        "id": "xWahtyxk24cm",
        "colab_type": "text"
      },
      "cell_type": "markdown",
      "source": [
        "There are several parameter optimizers in PyTorch. Stochastic Gradient Descent (SGD) is the simplest and easiest to understand. This is how we create an SGD optimizer with the command `O.SGD`. Note that it takes the parameters of our model of interest and a learning rate."
      ]
    },
    {
      "metadata": {
        "id": "VpYbagax24cn",
        "colab_type": "code",
        "colab": {
          "base_uri": "https://localhost:8080/",
          "height": 151
        },
        "outputId": "0e19e9b5-f91b-443f-d23e-d13ab3ec9c58"
      },
      "cell_type": "code",
      "source": [
        "optimizer = O.SGD(mlp_model.parameters(), lr=0.01)\n",
        "print(optimizer)"
      ],
      "execution_count": 36,
      "outputs": [
        {
          "output_type": "stream",
          "text": [
            "SGD (\n",
            "Parameter Group 0\n",
            "    dampening: 0\n",
            "    lr: 0.01\n",
            "    momentum: 0\n",
            "    nesterov: False\n",
            "    weight_decay: 0\n",
            ")\n"
          ],
          "name": "stdout"
        }
      ]
    },
    {
      "metadata": {
        "id": "dOxiYvVl24cr",
        "colab_type": "text"
      },
      "cell_type": "markdown",
      "source": [
        "This is one step of parameter optimization. First, we clear the gradient cache of the optimizer. The loss previously calculated is then used to perform backpropagation through the model. Finally, we update the parameters with the command `step()`."
      ]
    },
    {
      "metadata": {
        "id": "2C9mxs6A24ct",
        "colab_type": "code",
        "colab": {
          "base_uri": "https://localhost:8080/",
          "height": 430
        },
        "outputId": "dca29b86-a430-4064-bed8-d019a91b49de"
      },
      "cell_type": "code",
      "source": [
        "optimizer.zero_grad()        # Clear the gradient cache\n",
        "loss.backward()              # Perform backpropagation\n",
        "optimizer.step()             # Update the parameters"
      ],
      "execution_count": 37,
      "outputs": [
        {
          "output_type": "error",
          "ename": "RuntimeError",
          "evalue": "ignored",
          "traceback": [
            "\u001b[0;31m---------------------------------------------------------------------------\u001b[0m",
            "\u001b[0;31mRuntimeError\u001b[0m                              Traceback (most recent call last)",
            "\u001b[0;32m<ipython-input-37-3aae78d33694>\u001b[0m in \u001b[0;36m<module>\u001b[0;34m()\u001b[0m\n\u001b[1;32m      1\u001b[0m \u001b[0moptimizer\u001b[0m\u001b[0;34m.\u001b[0m\u001b[0mzero_grad\u001b[0m\u001b[0;34m(\u001b[0m\u001b[0;34m)\u001b[0m        \u001b[0;31m# Clear the gradient cache\u001b[0m\u001b[0;34m\u001b[0m\u001b[0m\n\u001b[0;32m----> 2\u001b[0;31m \u001b[0mloss\u001b[0m\u001b[0;34m.\u001b[0m\u001b[0mbackward\u001b[0m\u001b[0;34m(\u001b[0m\u001b[0;34m)\u001b[0m              \u001b[0;31m# Perform backpropagation\u001b[0m\u001b[0;34m\u001b[0m\u001b[0m\n\u001b[0m\u001b[1;32m      3\u001b[0m \u001b[0moptimizer\u001b[0m\u001b[0;34m.\u001b[0m\u001b[0mstep\u001b[0m\u001b[0;34m(\u001b[0m\u001b[0;34m)\u001b[0m             \u001b[0;31m# Update the parameters\u001b[0m\u001b[0;34m\u001b[0m\u001b[0m\n",
            "\u001b[0;32m/usr/local/lib/python3.6/dist-packages/torch/tensor.py\u001b[0m in \u001b[0;36mbackward\u001b[0;34m(self, gradient, retain_graph, create_graph)\u001b[0m\n\u001b[1;32m     91\u001b[0m                 \u001b[0mproducts\u001b[0m\u001b[0;34m.\u001b[0m \u001b[0mDefaults\u001b[0m \u001b[0mto\u001b[0m\u001b[0;31m \u001b[0m\u001b[0;31m`\u001b[0m\u001b[0;31m`\u001b[0m\u001b[0;32mFalse\u001b[0m\u001b[0;31m`\u001b[0m\u001b[0;31m`\u001b[0m\u001b[0;34m.\u001b[0m\u001b[0;34m\u001b[0m\u001b[0m\n\u001b[1;32m     92\u001b[0m         \"\"\"\n\u001b[0;32m---> 93\u001b[0;31m         \u001b[0mtorch\u001b[0m\u001b[0;34m.\u001b[0m\u001b[0mautograd\u001b[0m\u001b[0;34m.\u001b[0m\u001b[0mbackward\u001b[0m\u001b[0;34m(\u001b[0m\u001b[0mself\u001b[0m\u001b[0;34m,\u001b[0m \u001b[0mgradient\u001b[0m\u001b[0;34m,\u001b[0m \u001b[0mretain_graph\u001b[0m\u001b[0;34m,\u001b[0m \u001b[0mcreate_graph\u001b[0m\u001b[0;34m)\u001b[0m\u001b[0;34m\u001b[0m\u001b[0m\n\u001b[0m\u001b[1;32m     94\u001b[0m \u001b[0;34m\u001b[0m\u001b[0m\n\u001b[1;32m     95\u001b[0m     \u001b[0;32mdef\u001b[0m \u001b[0mregister_hook\u001b[0m\u001b[0;34m(\u001b[0m\u001b[0mself\u001b[0m\u001b[0;34m,\u001b[0m \u001b[0mhook\u001b[0m\u001b[0;34m)\u001b[0m\u001b[0;34m:\u001b[0m\u001b[0;34m\u001b[0m\u001b[0m\n",
            "\u001b[0;32m/usr/local/lib/python3.6/dist-packages/torch/autograd/__init__.py\u001b[0m in \u001b[0;36mbackward\u001b[0;34m(tensors, grad_tensors, retain_graph, create_graph, grad_variables)\u001b[0m\n\u001b[1;32m     88\u001b[0m     Variable._execution_engine.run_backward(\n\u001b[1;32m     89\u001b[0m         \u001b[0mtensors\u001b[0m\u001b[0;34m,\u001b[0m \u001b[0mgrad_tensors\u001b[0m\u001b[0;34m,\u001b[0m \u001b[0mretain_graph\u001b[0m\u001b[0;34m,\u001b[0m \u001b[0mcreate_graph\u001b[0m\u001b[0;34m,\u001b[0m\u001b[0;34m\u001b[0m\u001b[0m\n\u001b[0;32m---> 90\u001b[0;31m         allow_unreachable=True)  # allow_unreachable flag\n\u001b[0m\u001b[1;32m     91\u001b[0m \u001b[0;34m\u001b[0m\u001b[0m\n\u001b[1;32m     92\u001b[0m \u001b[0;34m\u001b[0m\u001b[0m\n",
            "\u001b[0;31mRuntimeError\u001b[0m: Trying to backward through the graph a second time, but the buffers have already been freed. Specify retain_graph=True when calling backward the first time."
          ]
        }
      ]
    },
    {
      "metadata": {
        "id": "Qydd4iP924cw",
        "colab_type": "text"
      },
      "cell_type": "markdown",
      "source": [
        "Let's observe the change in parameters after just one step of optimization. Note that the new prediction is approaching the desired output vector."
      ]
    },
    {
      "metadata": {
        "id": "ZvQVvFW324cx",
        "colab_type": "code",
        "colab": {
          "base_uri": "https://localhost:8080/",
          "height": 50
        },
        "outputId": "ccb26a66-a91f-4db1-967f-8d366a1dfeab"
      },
      "cell_type": "code",
      "source": [
        "print('Before: prediction = {}'.format(prediction))\n",
        "\n",
        "new_prediction = mlp_model(input_vec)\n",
        "print('After : prediction = {}'.format(new_prediction))"
      ],
      "execution_count": 34,
      "outputs": [
        {
          "output_type": "stream",
          "text": [
            "Before: prediction = tensor([ 0.2653, -0.6934, -0.3878, -0.3192], grad_fn=<ThAddBackward>)\n",
            "After : prediction = tensor([ 0.6939, -0.5823,  0.2562, -0.1424], grad_fn=<ThAddBackward>)\n"
          ],
          "name": "stdout"
        }
      ]
    },
    {
      "metadata": {
        "id": "xKaTj2py24c4",
        "colab_type": "text"
      },
      "cell_type": "markdown",
      "source": [
        "Let's iterate through parameter optimization for 10 times. Note that the loss is getting smaller, because the new prediction of each step is getting closer and closer to the desired output vector."
      ]
    },
    {
      "metadata": {
        "id": "9ONwpEzD24c6",
        "colab_type": "code",
        "colab": {
          "base_uri": "https://localhost:8080/",
          "height": 187
        },
        "outputId": "0de4f36b-c4d9-4c05-b50d-c366a421d0da"
      },
      "cell_type": "code",
      "source": [
        "for i in range(10):\n",
        "    step_prediction = mlp_model(input_vec)\n",
        "    loss = loss_func(step_prediction, desired_output_vec)\n",
        "    print('Iteration {}: loss = {}'.format(i, loss))\n",
        "    \n",
        "    optimizer.zero_grad()\n",
        "    loss.backward()\n",
        "    optimizer.step()"
      ],
      "execution_count": 0,
      "outputs": [
        {
          "output_type": "stream",
          "text": [
            "Iteration 0: loss = 8.658406257629395\n",
            "Iteration 1: loss = 7.0471343994140625\n",
            "Iteration 2: loss = 5.839920520782471\n",
            "Iteration 3: loss = 4.759215831756592\n",
            "Iteration 4: loss = 3.721050500869751\n",
            "Iteration 5: loss = 2.7352802753448486\n",
            "Iteration 6: loss = 1.8604302406311035\n",
            "Iteration 7: loss = 1.1604498624801636\n",
            "Iteration 8: loss = 0.6652825474739075\n",
            "Iteration 9: loss = 0.35642313957214355\n"
          ],
          "name": "stdout"
        }
      ]
    },
    {
      "metadata": {
        "id": "EXrYOpAD24c-",
        "colab_type": "text"
      },
      "cell_type": "markdown",
      "source": [
        "Let's see how close to the desired output vector the latest prediction is, compared with the first prediction."
      ]
    },
    {
      "metadata": {
        "id": "QAPXuQi324c_",
        "colab_type": "code",
        "colab": {
          "base_uri": "https://localhost:8080/",
          "height": 67
        },
        "outputId": "8d32e2c7-b1a6-40bb-e3d8-75bc9e734015"
      },
      "cell_type": "code",
      "source": [
        "print('Before: prediction = {}'.format(prediction))\n",
        "new_prediction = mlp_model(input_vec)\n",
        "print('After : prediction = {}'.format(new_prediction))\n",
        "print('Desired output vec : {}'.format(desired_output_vec))"
      ],
      "execution_count": 41,
      "outputs": [
        {
          "output_type": "stream",
          "text": [
            "Before: prediction = tensor([ 0.2653, -0.6934, -0.3878, -0.3192], grad_fn=<ThAddBackward>)\n",
            "After : prediction = tensor([ 0.6939, -0.5823,  0.2562, -0.1424], grad_fn=<ThAddBackward>)\n",
            "Desired output vec : tensor([4., 3., 2., 1.])\n"
          ],
          "name": "stdout"
        }
      ]
    },
    {
      "metadata": {
        "id": "VrSB4fzg24dD",
        "colab_type": "text"
      },
      "cell_type": "markdown",
      "source": [
        "The more iterations, the closer the prediction is to the desired output vector."
      ]
    },
    {
      "metadata": {
        "id": "iWhJrhC124dE",
        "colab_type": "text"
      },
      "cell_type": "markdown",
      "source": [
        "-----"
      ]
    },
    {
      "metadata": {
        "id": "UbOSGo7z24dF",
        "colab_type": "text"
      },
      "cell_type": "markdown",
      "source": [
        "## Learning the XOR Gate with Multilayer Perceptrons"
      ]
    },
    {
      "metadata": {
        "id": "RwRHQWWh24dG",
        "colab_type": "text"
      },
      "cell_type": "markdown",
      "source": [
        "In this section, we will design a multilayer perceptron and train it to imitate an XOR gate."
      ]
    },
    {
      "metadata": {
        "id": "H6syzn8o24dH",
        "colab_type": "text"
      },
      "cell_type": "markdown",
      "source": [
        "### Configuration"
      ]
    },
    {
      "metadata": {
        "id": "H59I8fHy24dI",
        "colab_type": "code",
        "colab": {}
      },
      "cell_type": "code",
      "source": [
        "dim_input = 2                         # DO NOT CHANGE ME: input dimension\n",
        "dim_hidden = 8                        # Dimension for the hidden layer\n",
        "dim_output = 1                        # DO NOT CHANGE ME: output dimension\n",
        "\n",
        "no_training = 1000                    # Number of training data\n",
        "no_testing = 100                      # Number of testing data\n",
        "\n",
        "epochs = 40                           # Number of training iterations\n",
        "loss_fn = N.MSELoss()                 # Loss function\n",
        "learning_rate = 0.01                  # Learning rate"
      ],
      "execution_count": 0,
      "outputs": []
    },
    {
      "metadata": {
        "id": "7PxglV_Z24dK",
        "colab_type": "text"
      },
      "cell_type": "markdown",
      "source": [
        "### Generating XOR Datasets"
      ]
    },
    {
      "metadata": {
        "id": "qvgqzzez24dL",
        "colab_type": "text"
      },
      "cell_type": "markdown",
      "source": [
        "We generate a dataset for training/testing our MLP as follows. \n",
        "\n",
        "1. Create a list for storing the dataset. Let's name it $D$.\n",
        "2. Repeat for the specified times\n",
        "   1. We random two numbers ranging from 0 to 1 by `random.randint(0, 1)`, say $a$ and $b$. They will be the inputs of an XOR gate.\n",
        "   2. We compute the result of $a \\textrm{ XOR } b$. Let's name it $q$.\n",
        "   3. Append $((a, b), q)$ to $D$.\n",
        "3. Return $D$ as a result."
      ]
    },
    {
      "metadata": {
        "id": "Qdo5gtzJ24dL",
        "colab_type": "code",
        "colab": {}
      },
      "cell_type": "code",
      "source": [
        "def gen_xor_dataset(size):\n",
        "    dataset = []\n",
        "    \n",
        "    for i in range(size):\n",
        "        \n",
        "        # Random two values: a and b\n",
        "        a = (random.randint(0, 1) == 1)\n",
        "        b = (random.randint(0, 1) == 1)\n",
        "        \n",
        "        # q = a XOR b\n",
        "        q = (a != b)\n",
        "            \n",
        "        input_features = (a, b)\n",
        "        output_class = q\n",
        "        dataset.append( (input_features, output_class) )\n",
        "        \n",
        "    return dataset"
      ],
      "execution_count": 0,
      "outputs": []
    },
    {
      "metadata": {
        "id": "GWhBd7i324dO",
        "colab_type": "text"
      },
      "cell_type": "markdown",
      "source": [
        "Let's generate the training and testing sets."
      ]
    },
    {
      "metadata": {
        "id": "Tw56mZmI24dP",
        "colab_type": "code",
        "colab": {}
      },
      "cell_type": "code",
      "source": [
        "training_set = gen_xor_dataset(no_training)\n",
        "testing_set = gen_xor_dataset(no_testing)"
      ],
      "execution_count": 0,
      "outputs": []
    },
    {
      "metadata": {
        "id": "TXm7XRS924dR",
        "colab_type": "text"
      },
      "cell_type": "markdown",
      "source": [
        "### Training Procedure"
      ]
    },
    {
      "metadata": {
        "id": "3NnxRgEY24dS",
        "colab_type": "text"
      },
      "cell_type": "markdown",
      "source": [
        "The training procedure follows the standard iteration of parameter optimization.\n",
        "\n",
        "1. Repeat for the specified number of iterations (a.k.a. *epochs*)\n",
        "   1. Shuffle the dataset D\n",
        "   2. For each tuple ((a, b), q) in the dataset D\n",
        "      1. Create an input vector $\\mathbf{x}$, where $x_1 = a$ and $x_2 = b$.\n",
        "      2. Create a desired output vector $\\mathbf{y}'$, where $y_1 = q$.\n",
        "      3. Compute a prediction vector $\\mathbf{y}$ out of the model by feed-forwarding the input vector $\\mathbf{x}$.\n",
        "      4. Compute the loss between $\\mathbf{y}$ and $\\mathbf{y}'$.\n",
        "      5. Perform backpropagation with respect to the loss.\n",
        "   3. Store the loss history.\n",
        "2. Plot a line chart of the loss history with Matplotlib."
      ]
    },
    {
      "metadata": {
        "id": "s6zzcaww24dT",
        "colab_type": "code",
        "colab": {}
      },
      "cell_type": "code",
      "source": [
        "def train_model(xor_model, training_data):\n",
        "    optimizer = O.SGD(xor_model.parameters(), lr=learning_rate)\n",
        "    no_samples = len(training_data)\n",
        "    loss_history = []\n",
        "    \n",
        "    for i in tqdm(range(epochs)):\n",
        "        total_loss = 0.0\n",
        "        random.shuffle(training_data)\n",
        "        \n",
        "        for (input_features, output_class) in training_data:\n",
        "            ((a, b), q) = (input_features, output_class)\n",
        "            \n",
        "            x = T.zeros(dim_input)     # Input vector\n",
        "            y = T.zeros(dim_output)    # Output vector\n",
        "            if a: x[0] = 1.0\n",
        "            if b: x[1] = 1.0\n",
        "            if q: y[0] = 1.0\n",
        "                \n",
        "            prediction = xor_model(x)  # Perform prediction\n",
        "            \n",
        "            loss = loss_fn(prediction, y)\n",
        "            total_loss += loss.item()\n",
        "            \n",
        "            optimizer.zero_grad()      # Clear gradient cache\n",
        "            loss.backward()            # Perform backpropagation\n",
        "            optimizer.step()           # Update the model parameters\n",
        "        \n",
        "        loss_history.append(total_loss / no_samples)\n",
        "        \n",
        "    # Plot the loss history with Matplotlib\n",
        "    epoch_count = range(1, epochs + 1)\n",
        "    plt.plot(epoch_count, loss_history, 'b--')\n",
        "    plt.legend(['Training Loss'])\n",
        "    plt.xlabel('Epoch')\n",
        "    plt.ylabel('Loss')\n",
        "    plt.show()"
      ],
      "execution_count": 0,
      "outputs": []
    },
    {
      "metadata": {
        "id": "44cM32q524dV",
        "colab_type": "text"
      },
      "cell_type": "markdown",
      "source": [
        "### Testing Procedure"
      ]
    },
    {
      "metadata": {
        "id": "4L7lUI7j24dW",
        "colab_type": "text"
      },
      "cell_type": "markdown",
      "source": [
        "Let's measure the accuracy of a model.\n",
        "\n",
        "1. Let $c$ be a counter of correct predictions, and $N$ be the number of testing samples.\n",
        "2. For each ((a, b), q) in the testing set\n",
        "   1. Create an input vector $\\mathbf{x}$, where $x_1 = a$ and $x_2 = b$.\n",
        "   2. Compute a prediction vector $\\mathbf{y}$ out of the model by feed-forwarding the input vector $\\mathbf{x}$.\n",
        "   3. Infer a predicted class $q'$ from $\\mathbf{y}$. If $y_1 \\geq 0.5$, we let $q' = \\mathbb{T}$. Otherwise, $q' = \\mathbb{F}$.\n",
        "   4. If $q = q'$, then we increase the counter $c$.\n",
        "3. Calculate the accuracy by the formula $ \\mathrm{ACC} = c / N $."
      ]
    },
    {
      "metadata": {
        "id": "SwrbE2I224dX",
        "colab_type": "code",
        "colab": {}
      },
      "cell_type": "code",
      "source": [
        "def test_model(xor_model, testing_data):\n",
        "    no_correct = 0.0\n",
        "\n",
        "    for (input_features, output_class) in testing_data:\n",
        "        ((a, b), q) = (input_features, output_class)\n",
        "\n",
        "        x = T.zeros(dim_input)     # dim_input = 2\n",
        "        if a: x[0] = 1.0\n",
        "        if b: x[1] = 1.0\n",
        "\n",
        "        pred = xor_model(x)\n",
        "        pred_class = True if pred [0] >= 0.5 else False\n",
        "        result = 'Correct' if pred_class == q else 'Incorrect'\n",
        "        if pred_class == q: no_correct += 1\n",
        "        print('{:>5} XOR {:>5} = {:>5}  |  prediction = {:>5}  |  {}'.format(\n",
        "           str(a), str(b), str(q), str(pred_class), str(result)\n",
        "        ))\n",
        "\n",
        "    accuracy = 100 * no_correct / no_testing\n",
        "    print('\\nAccuracy = {}'.format(accuracy))"
      ],
      "execution_count": 0,
      "outputs": []
    },
    {
      "metadata": {
        "id": "ianii2i924dZ",
        "colab_type": "text"
      },
      "cell_type": "markdown",
      "source": [
        "-------"
      ]
    },
    {
      "metadata": {
        "id": "VXoVOrrb24da",
        "colab_type": "text"
      },
      "cell_type": "markdown",
      "source": [
        "## Model 1: A Very Simple Model"
      ]
    },
    {
      "metadata": {
        "id": "oTj-QeFm24da",
        "colab_type": "text"
      },
      "cell_type": "markdown",
      "source": [
        "### Model Design"
      ]
    },
    {
      "metadata": {
        "id": "D_gMJtbE24db",
        "colab_type": "text"
      },
      "cell_type": "markdown",
      "source": [
        "Our endeavor to the XOR gate begins with a simple MLP. This MLP contains just two linear layers."
      ]
    },
    {
      "metadata": {
        "id": "n3OB62g924dc",
        "colab_type": "code",
        "colab": {
          "base_uri": "https://localhost:8080/",
          "height": 101
        },
        "outputId": "44f6380d-f1b7-424e-eafd-e8e720a2fb69"
      },
      "cell_type": "code",
      "source": [
        "xor_model_1 = N.Sequential(\n",
        "    N.Linear(dim_input, dim_hidden),\n",
        "    N.Linear(dim_hidden, dim_output)\n",
        ")\n",
        "\n",
        "print('Model 1:\\n{}'.format(xor_model_1))"
      ],
      "execution_count": 46,
      "outputs": [
        {
          "output_type": "stream",
          "text": [
            "Model 1:\n",
            "Sequential(\n",
            "  (0): Linear(in_features=2, out_features=8, bias=True)\n",
            "  (1): Linear(in_features=8, out_features=1, bias=True)\n",
            ")\n"
          ],
          "name": "stdout"
        }
      ]
    },
    {
      "metadata": {
        "id": "WRv35EJZ24dg",
        "colab_type": "text"
      },
      "cell_type": "markdown",
      "source": [
        "### Training"
      ]
    },
    {
      "metadata": {
        "id": "pxCYPY3e24dg",
        "colab_type": "text"
      },
      "cell_type": "markdown",
      "source": [
        "Let's train Model 1 with the training set!"
      ]
    },
    {
      "metadata": {
        "id": "GXZZW1IR24dh",
        "colab_type": "code",
        "colab": {
          "base_uri": "https://localhost:8080/",
          "height": 296
        },
        "outputId": "301d3d78-e708-4efa-ebdf-c6b8429abf68"
      },
      "cell_type": "code",
      "source": [
        "train_model(xor_model_1, training_set)"
      ],
      "execution_count": 51,
      "outputs": [
        {
          "output_type": "stream",
          "text": [
            "100%|██████████| 40/40 [00:13<00:00,  3.61it/s]\n"
          ],
          "name": "stderr"
        },
        {
          "output_type": "display_data",
          "data": {
            "image/png": "[encoded data removed]",
            "text/plain": [
              "<matplotlib.figure.Figure at 0x7fad55570cc0>"
            ]
          },
          "metadata": {
            "tags": []
          }
        }
      ]
    },
    {
      "metadata": {
        "id": "-ZOt0NAl24dl",
        "colab_type": "text"
      },
      "cell_type": "markdown",
      "source": [
        "**N.B.** Observe the training loss. How much loss can Model 1 reduce?"
      ]
    },
    {
      "metadata": {
        "id": "ik1LRX8024dl",
        "colab_type": "text"
      },
      "cell_type": "markdown",
      "source": [
        "### Testing"
      ]
    },
    {
      "metadata": {
        "id": "GTjLopjF24dm",
        "colab_type": "text"
      },
      "cell_type": "markdown",
      "source": [
        "Let's test Model 1 with the testing set!"
      ]
    },
    {
      "metadata": {
        "id": "RUpBXnUj24dm",
        "colab_type": "code",
        "colab": {
          "base_uri": "https://localhost:8080/",
          "height": 1730
        },
        "outputId": "8c643627-8e5e-40d2-d213-bf6bdebce0b2"
      },
      "cell_type": "code",
      "source": [
        "test_model(xor_model_1, testing_set)"
      ],
      "execution_count": 53,
      "outputs": [
        {
          "output_type": "stream",
          "text": [
            "False XOR  True =  True  |  prediction =  True  |  Correct\n",
            " True XOR False =  True  |  prediction =  True  |  Correct\n",
            " True XOR  True = False  |  prediction =  True  |  Incorrect\n",
            "False XOR False = False  |  prediction =  True  |  Incorrect\n",
            " True XOR  True = False  |  prediction =  True  |  Incorrect\n",
            " True XOR False =  True  |  prediction =  True  |  Correct\n",
            " True XOR  True = False  |  prediction =  True  |  Incorrect\n",
            "False XOR  True =  True  |  prediction =  True  |  Correct\n",
            " True XOR  True = False  |  prediction =  True  |  Incorrect\n",
            "False XOR  True =  True  |  prediction =  True  |  Correct\n",
            " True XOR False =  True  |  prediction =  True  |  Correct\n",
            " True XOR  True = False  |  prediction =  True  |  Incorrect\n",
            " True XOR  True = False  |  prediction =  True  |  Incorrect\n",
            " True XOR  True = False  |  prediction =  True  |  Incorrect\n",
            "False XOR  True =  True  |  prediction =  True  |  Correct\n",
            " True XOR False =  True  |  prediction =  True  |  Correct\n",
            "False XOR False = False  |  prediction =  True  |  Incorrect\n",
            "False XOR False = False  |  prediction =  True  |  Incorrect\n",
            " True XOR False =  True  |  prediction =  True  |  Correct\n",
            "False XOR False = False  |  prediction =  True  |  Incorrect\n",
            " True XOR  True = False  |  prediction =  True  |  Incorrect\n",
            "False XOR  True =  True  |  prediction =  True  |  Correct\n",
            "False XOR False = False  |  prediction =  True  |  Incorrect\n",
            " True XOR  True = False  |  prediction =  True  |  Incorrect\n",
            "False XOR False = False  |  prediction =  True  |  Incorrect\n",
            " True XOR False =  True  |  prediction =  True  |  Correct\n",
            "False XOR  True =  True  |  prediction =  True  |  Correct\n",
            "False XOR  True =  True  |  prediction =  True  |  Correct\n",
            " True XOR  True = False  |  prediction =  True  |  Incorrect\n",
            " True XOR False =  True  |  prediction =  True  |  Correct\n",
            "False XOR  True =  True  |  prediction =  True  |  Correct\n",
            " True XOR  True = False  |  prediction =  True  |  Incorrect\n",
            " True XOR False =  True  |  prediction =  True  |  Correct\n",
            "False XOR  True =  True  |  prediction =  True  |  Correct\n",
            "False XOR  True =  True  |  prediction =  True  |  Correct\n",
            " True XOR False =  True  |  prediction =  True  |  Correct\n",
            " True XOR False =  True  |  prediction =  True  |  Correct\n",
            " True XOR  True = False  |  prediction =  True  |  Incorrect\n",
            " True XOR  True = False  |  prediction =  True  |  Incorrect\n",
            " True XOR  True = False  |  prediction =  True  |  Incorrect\n",
            " True XOR  True = False  |  prediction =  True  |  Incorrect\n",
            " True XOR False =  True  |  prediction =  True  |  Correct\n",
            " True XOR False =  True  |  prediction =  True  |  Correct\n",
            "False XOR False = False  |  prediction =  True  |  Incorrect\n",
            "False XOR  True =  True  |  prediction =  True  |  Correct\n",
            " True XOR False =  True  |  prediction =  True  |  Correct\n",
            " True XOR False =  True  |  prediction =  True  |  Correct\n",
            " True XOR False =  True  |  prediction =  True  |  Correct\n",
            "False XOR  True =  True  |  prediction =  True  |  Correct\n",
            " True XOR False =  True  |  prediction =  True  |  Correct\n",
            " True XOR False =  True  |  prediction =  True  |  Correct\n",
            "False XOR False = False  |  prediction =  True  |  Incorrect\n",
            "False XOR False = False  |  prediction =  True  |  Incorrect\n",
            " True XOR  True = False  |  prediction =  True  |  Incorrect\n",
            "False XOR False = False  |  prediction =  True  |  Incorrect\n",
            "False XOR  True =  True  |  prediction =  True  |  Correct\n",
            " True XOR  True = False  |  prediction =  True  |  Incorrect\n",
            "False XOR  True =  True  |  prediction =  True  |  Correct\n",
            " True XOR  True = False  |  prediction =  True  |  Incorrect\n",
            "False XOR False = False  |  prediction =  True  |  Incorrect\n",
            "False XOR  True =  True  |  prediction =  True  |  Correct\n",
            "False XOR False = False  |  prediction =  True  |  Incorrect\n",
            "False XOR  True =  True  |  prediction =  True  |  Correct\n",
            "False XOR  True =  True  |  prediction =  True  |  Correct\n",
            "False XOR  True =  True  |  prediction =  True  |  Correct\n",
            " True XOR False =  True  |  prediction =  True  |  Correct\n",
            " True XOR False =  True  |  prediction =  True  |  Correct\n",
            "False XOR False = False  |  prediction =  True  |  Incorrect\n",
            "False XOR False = False  |  prediction =  True  |  Incorrect\n",
            "False XOR False = False  |  prediction =  True  |  Incorrect\n",
            "False XOR  True =  True  |  prediction =  True  |  Correct\n",
            " True XOR  True = False  |  prediction =  True  |  Incorrect\n",
            "False XOR False = False  |  prediction =  True  |  Incorrect\n",
            "False XOR  True =  True  |  prediction =  True  |  Correct\n",
            " True XOR  True = False  |  prediction =  True  |  Incorrect\n",
            "False XOR False = False  |  prediction =  True  |  Incorrect\n",
            "False XOR False = False  |  prediction =  True  |  Incorrect\n",
            "False XOR False = False  |  prediction =  True  |  Incorrect\n",
            " True XOR  True = False  |  prediction =  True  |  Incorrect\n",
            " True XOR False =  True  |  prediction =  True  |  Correct\n",
            "False XOR  True =  True  |  prediction =  True  |  Correct\n",
            " True XOR False =  True  |  prediction =  True  |  Correct\n",
            " True XOR False =  True  |  prediction =  True  |  Correct\n",
            "False XOR  True =  True  |  prediction =  True  |  Correct\n",
            " True XOR False =  True  |  prediction =  True  |  Correct\n",
            " True XOR False =  True  |  prediction =  True  |  Correct\n",
            " True XOR False =  True  |  prediction =  True  |  Correct\n",
            " True XOR  True = False  |  prediction =  True  |  Incorrect\n",
            " True XOR  True = False  |  prediction =  True  |  Incorrect\n",
            " True XOR False =  True  |  prediction =  True  |  Correct\n",
            " True XOR False =  True  |  prediction =  True  |  Correct\n",
            " True XOR  True = False  |  prediction =  True  |  Incorrect\n",
            " True XOR  True = False  |  prediction =  True  |  Incorrect\n",
            "False XOR  True =  True  |  prediction =  True  |  Correct\n",
            " True XOR  True = False  |  prediction =  True  |  Incorrect\n",
            " True XOR False =  True  |  prediction =  True  |  Correct\n",
            " True XOR False =  True  |  prediction =  True  |  Correct\n",
            "False XOR False = False  |  prediction =  True  |  Incorrect\n",
            "False XOR  True =  True  |  prediction =  True  |  Correct\n",
            "False XOR False = False  |  prediction =  True  |  Incorrect\n",
            "\n",
            "Accuracy = 53.0\n"
          ],
          "name": "stdout"
        }
      ]
    },
    {
      "metadata": {
        "id": "w5NqTbxl24do",
        "colab_type": "text"
      },
      "cell_type": "markdown",
      "source": [
        "### Exercise\n",
        "\n",
        "Explain why we do not get 100% accuracy despite our high hope in neural networks. In particular, observe the predictions; they can be very strange! (*Hint:* There is something to do with the range of the input values of each linear layer.)"
      ]
    },
    {
      "metadata": {
        "id": "a4BNZdBh24dp",
        "colab_type": "text"
      },
      "cell_type": "markdown",
      "source": [
        "-------"
      ]
    },
    {
      "metadata": {
        "id": "OUqu4ZcZ24dp",
        "colab_type": "text"
      },
      "cell_type": "markdown",
      "source": [
        "## Model 2: Adding Activation Function"
      ]
    },
    {
      "metadata": {
        "id": "J5sed1tB24dp",
        "colab_type": "text"
      },
      "cell_type": "markdown",
      "source": [
        "### Model Design"
      ]
    },
    {
      "metadata": {
        "id": "R31OOZ4d24dp",
        "colab_type": "text"
      },
      "cell_type": "markdown",
      "source": [
        "Let's introduce an activation function, e.g. sigmoid, into the model. The sigmoid function `N.Sigmoid` will shrink the range of the second linear layer to $[0, 1]$."
      ]
    },
    {
      "metadata": {
        "id": "Cf1HjvIV24dq",
        "colab_type": "code",
        "colab": {
          "base_uri": "https://localhost:8080/",
          "height": 118
        },
        "outputId": "43e2c442-2707-4d1f-beb1-e8ec76d62333"
      },
      "cell_type": "code",
      "source": [
        "xor_model_2 = N.Sequential(\n",
        "    N.Linear(dim_input, dim_hidden),\n",
        "    N.ReLU(),\n",
        "    N.Linear(dim_hidden, dim_output),\n",
        "\n",
        ")\n",
        "\n",
        "print('Model 2:\\n{}'.format(xor_model_2))"
      ],
      "execution_count": 78,
      "outputs": [
        {
          "output_type": "stream",
          "text": [
            "Model 2:\n",
            "Sequential(\n",
            "  (0): Linear(in_features=2, out_features=8, bias=True)\n",
            "  (1): ReLU()\n",
            "  (2): Linear(in_features=8, out_features=1, bias=True)\n",
            ")\n"
          ],
          "name": "stdout"
        }
      ]
    },
    {
      "metadata": {
        "id": "-GNbf1fq24dr",
        "colab_type": "text"
      },
      "cell_type": "markdown",
      "source": [
        "### Training"
      ]
    },
    {
      "metadata": {
        "id": "huQtLIbT24ds",
        "colab_type": "text"
      },
      "cell_type": "markdown",
      "source": [
        "Let's train Model 2 with the training set."
      ]
    },
    {
      "metadata": {
        "id": "d3wnc7WM24ds",
        "colab_type": "code",
        "colab": {
          "base_uri": "https://localhost:8080/",
          "height": 298
        },
        "outputId": "4ce0445f-cb83-4a26-ea3b-f90665b26c02"
      },
      "cell_type": "code",
      "source": [
        "train_model(xor_model_2, training_set)"
      ],
      "execution_count": 79,
      "outputs": [
        {
          "output_type": "stream",
          "text": [
            "100%|██████████| 40/40 [00:12<00:00,  3.39it/s]\n"
          ],
          "name": "stderr"
        },
        {
          "output_type": "display_data",
          "data": {
            "image/png": "[encoded data removed]",
            "text/plain": [
              "<matplotlib.figure.Figure at 0x7fad548db7b8>"
            ]
          },
          "metadata": {
            "tags": []
          }
        }
      ]
    },
    {
      "metadata": {
        "id": "zCxcn4a524dv",
        "colab_type": "text"
      },
      "cell_type": "markdown",
      "source": [
        "**N.B.** Observe the training loss. Compare it to the training loss of Model 1. Which one is better?"
      ]
    },
    {
      "metadata": {
        "id": "_G39mn1Q24dv",
        "colab_type": "text"
      },
      "cell_type": "markdown",
      "source": [
        "### Testing"
      ]
    },
    {
      "metadata": {
        "id": "PgpKI3qJ24dv",
        "colab_type": "text"
      },
      "cell_type": "markdown",
      "source": [
        "Let's test Model 2 with the testing set."
      ]
    },
    {
      "metadata": {
        "id": "5xgbPDnn24dv",
        "colab_type": "code",
        "colab": {
          "base_uri": "https://localhost:8080/",
          "height": 1730
        },
        "outputId": "d9d1f84c-7669-4ff6-eb29-12e18101cf08"
      },
      "cell_type": "code",
      "source": [
        "test_model(xor_model_2, testing_set)"
      ],
      "execution_count": 75,
      "outputs": [
        {
          "output_type": "stream",
          "text": [
            "False XOR  True =  True  |  prediction =  True  |  Correct\n",
            " True XOR False =  True  |  prediction =  True  |  Correct\n",
            " True XOR  True = False  |  prediction = False  |  Correct\n",
            "False XOR False = False  |  prediction = False  |  Correct\n",
            " True XOR  True = False  |  prediction = False  |  Correct\n",
            " True XOR False =  True  |  prediction =  True  |  Correct\n",
            " True XOR  True = False  |  prediction = False  |  Correct\n",
            "False XOR  True =  True  |  prediction =  True  |  Correct\n",
            " True XOR  True = False  |  prediction = False  |  Correct\n",
            "False XOR  True =  True  |  prediction =  True  |  Correct\n",
            " True XOR False =  True  |  prediction =  True  |  Correct\n",
            " True XOR  True = False  |  prediction = False  |  Correct\n",
            " True XOR  True = False  |  prediction = False  |  Correct\n",
            " True XOR  True = False  |  prediction = False  |  Correct\n",
            "False XOR  True =  True  |  prediction =  True  |  Correct\n",
            " True XOR False =  True  |  prediction =  True  |  Correct\n",
            "False XOR False = False  |  prediction = False  |  Correct\n",
            "False XOR False = False  |  prediction = False  |  Correct\n",
            " True XOR False =  True  |  prediction =  True  |  Correct\n",
            "False XOR False = False  |  prediction = False  |  Correct\n",
            " True XOR  True = False  |  prediction = False  |  Correct\n",
            "False XOR  True =  True  |  prediction =  True  |  Correct\n",
            "False XOR False = False  |  prediction = False  |  Correct\n",
            " True XOR  True = False  |  prediction = False  |  Correct\n",
            "False XOR False = False  |  prediction = False  |  Correct\n",
            " True XOR False =  True  |  prediction =  True  |  Correct\n",
            "False XOR  True =  True  |  prediction =  True  |  Correct\n",
            "False XOR  True =  True  |  prediction =  True  |  Correct\n",
            " True XOR  True = False  |  prediction = False  |  Correct\n",
            " True XOR False =  True  |  prediction =  True  |  Correct\n",
            "False XOR  True =  True  |  prediction =  True  |  Correct\n",
            " True XOR  True = False  |  prediction = False  |  Correct\n",
            " True XOR False =  True  |  prediction =  True  |  Correct\n",
            "False XOR  True =  True  |  prediction =  True  |  Correct\n",
            "False XOR  True =  True  |  prediction =  True  |  Correct\n",
            " True XOR False =  True  |  prediction =  True  |  Correct\n",
            " True XOR False =  True  |  prediction =  True  |  Correct\n",
            " True XOR  True = False  |  prediction = False  |  Correct\n",
            " True XOR  True = False  |  prediction = False  |  Correct\n",
            " True XOR  True = False  |  prediction = False  |  Correct\n",
            " True XOR  True = False  |  prediction = False  |  Correct\n",
            " True XOR False =  True  |  prediction =  True  |  Correct\n",
            " True XOR False =  True  |  prediction =  True  |  Correct\n",
            "False XOR False = False  |  prediction = False  |  Correct\n",
            "False XOR  True =  True  |  prediction =  True  |  Correct\n",
            " True XOR False =  True  |  prediction =  True  |  Correct\n",
            " True XOR False =  True  |  prediction =  True  |  Correct\n",
            " True XOR False =  True  |  prediction =  True  |  Correct\n",
            "False XOR  True =  True  |  prediction =  True  |  Correct\n",
            " True XOR False =  True  |  prediction =  True  |  Correct\n",
            " True XOR False =  True  |  prediction =  True  |  Correct\n",
            "False XOR False = False  |  prediction = False  |  Correct\n",
            "False XOR False = False  |  prediction = False  |  Correct\n",
            " True XOR  True = False  |  prediction = False  |  Correct\n",
            "False XOR False = False  |  prediction = False  |  Correct\n",
            "False XOR  True =  True  |  prediction =  True  |  Correct\n",
            " True XOR  True = False  |  prediction = False  |  Correct\n",
            "False XOR  True =  True  |  prediction =  True  |  Correct\n",
            " True XOR  True = False  |  prediction = False  |  Correct\n",
            "False XOR False = False  |  prediction = False  |  Correct\n",
            "False XOR  True =  True  |  prediction =  True  |  Correct\n",
            "False XOR False = False  |  prediction = False  |  Correct\n",
            "False XOR  True =  True  |  prediction =  True  |  Correct\n",
            "False XOR  True =  True  |  prediction =  True  |  Correct\n",
            "False XOR  True =  True  |  prediction =  True  |  Correct\n",
            " True XOR False =  True  |  prediction =  True  |  Correct\n",
            " True XOR False =  True  |  prediction =  True  |  Correct\n",
            "False XOR False = False  |  prediction = False  |  Correct\n",
            "False XOR False = False  |  prediction = False  |  Correct\n",
            "False XOR False = False  |  prediction = False  |  Correct\n",
            "False XOR  True =  True  |  prediction =  True  |  Correct\n",
            " True XOR  True = False  |  prediction = False  |  Correct\n",
            "False XOR False = False  |  prediction = False  |  Correct\n",
            "False XOR  True =  True  |  prediction =  True  |  Correct\n",
            " True XOR  True = False  |  prediction = False  |  Correct\n",
            "False XOR False = False  |  prediction = False  |  Correct\n",
            "False XOR False = False  |  prediction = False  |  Correct\n",
            "False XOR False = False  |  prediction = False  |  Correct\n",
            " True XOR  True = False  |  prediction = False  |  Correct\n",
            " True XOR False =  True  |  prediction =  True  |  Correct\n",
            "False XOR  True =  True  |  prediction =  True  |  Correct\n",
            " True XOR False =  True  |  prediction =  True  |  Correct\n",
            " True XOR False =  True  |  prediction =  True  |  Correct\n",
            "False XOR  True =  True  |  prediction =  True  |  Correct\n",
            " True XOR False =  True  |  prediction =  True  |  Correct\n",
            " True XOR False =  True  |  prediction =  True  |  Correct\n",
            " True XOR False =  True  |  prediction =  True  |  Correct\n",
            " True XOR  True = False  |  prediction = False  |  Correct\n",
            " True XOR  True = False  |  prediction = False  |  Correct\n",
            " True XOR False =  True  |  prediction =  True  |  Correct\n",
            " True XOR False =  True  |  prediction =  True  |  Correct\n",
            " True XOR  True = False  |  prediction = False  |  Correct\n",
            " True XOR  True = False  |  prediction = False  |  Correct\n",
            "False XOR  True =  True  |  prediction =  True  |  Correct\n",
            " True XOR  True = False  |  prediction = False  |  Correct\n",
            " True XOR False =  True  |  prediction =  True  |  Correct\n",
            " True XOR False =  True  |  prediction =  True  |  Correct\n",
            "False XOR False = False  |  prediction = False  |  Correct\n",
            "False XOR  True =  True  |  prediction =  True  |  Correct\n",
            "False XOR False = False  |  prediction = False  |  Correct\n",
            "\n",
            "Accuracy = 100.0\n"
          ],
          "name": "stdout"
        }
      ]
    },
    {
      "metadata": {
        "id": "Hv30baoa24dx",
        "colab_type": "text"
      },
      "cell_type": "markdown",
      "source": [
        "### Exercises\n",
        "\n",
        "1. Explain why we can now achieve 100% accuracy. (*Hint:* Is there something to do with the range of the input values of linear layers?)\n",
        "2. Replace the sigmoid function `N.Sigmoid` in Model 2 with another one, such as the hyperbolic tangent `N.Tanh` (whose range is $[-1, 1]$) and the rectified unit function `N.ReLU` (whose range is $[0, \\infty]$). Observe the difference of achieved accuracies."
      ]
    },
    {
      "metadata": {
        "id": "CMAKyINO24dx",
        "colab_type": "text"
      },
      "cell_type": "markdown",
      "source": [
        "--------"
      ]
    },
    {
      "metadata": {
        "id": "q0_BmJ4C24dx",
        "colab_type": "text"
      },
      "cell_type": "markdown",
      "source": [
        "## Model 3: Modularizing a Model"
      ]
    },
    {
      "metadata": {
        "id": "adm90ZB024dx",
        "colab_type": "text"
      },
      "cell_type": "markdown",
      "source": [
        "In the previous models, we created a MLP by assembling linear layers and activation functions, and we had to do this every time when creating a new one. If we plan to create many models with the same neural architecture, we can instead modularize it as a class and instantiate a lot of them from that class."
      ]
    },
    {
      "metadata": {
        "id": "d2JKUFiO24dy",
        "colab_type": "text"
      },
      "cell_type": "markdown",
      "source": [
        "### Model Design"
      ]
    },
    {
      "metadata": {
        "id": "ZEPoc6Mh24dy",
        "colab_type": "text"
      },
      "cell_type": "markdown",
      "source": [
        "We modularize a neural architecture by simply inheriting the class `N.Module`. There are two parts we have to work on.\n",
        "\n",
        "The first part is the constructor method `__init__`. Here we take arguments and define necessary components according to them. In this example, it takes three arguments: `dim_input`, `dim_hidden`, and `dim_output`, respectively. Then we create two linear layers (`_input_to_hidden` and `_hidden_to_output`) and one sigmoid function (`_sigmoid`).\n",
        "\n",
        "The second part is the method `forward`. In this example, it takes an input vector `x` and computes a prediction out of it. As we can see, we compute the prediction step-by-step as `out1`, `out2`, and `out3`. In the case of debugging, we can simply print out each step to investigate the errors. This capability makes your life as a developer a lot easier."
      ]
    },
    {
      "metadata": {
        "id": "xsoNmCeU24dy",
        "colab_type": "code",
        "colab": {}
      },
      "cell_type": "code",
      "source": [
        "class XorModel(N.Module):\n",
        "\n",
        "    def __init__(self, dim_input, dim_hidden, dim_output):\n",
        "        super(XorModel, self).__init__()\n",
        "        self._dim_input = dim_input\n",
        "        self._dim_hidden = dim_hidden\n",
        "        self._dim_output = dim_output\n",
        "\n",
        "        self._input_to_hidden = N.Linear(self._dim_input, self._dim_hidden)\n",
        "        self._sigmoid = N.Sigmoid()\n",
        "        self._hidden_to_output = N.Linear(self._dim_hidden, self._dim_output)\n",
        "\n",
        "    def forward(self, x):\n",
        "        out1 = self._input_to_hidden(x)\n",
        "        # print('out1 = {}'.format(out1))         # For debugging\n",
        "        out2 = self._sigmoid(out1)\n",
        "        # print('out2 = {}'.format(out2))         # For debugging\n",
        "        out3 = self._hidden_to_output(out2)\n",
        "        # print('out3 = {}'.format(out3))         # For debugging\n",
        "        return out3"
      ],
      "execution_count": 0,
      "outputs": []
    },
    {
      "metadata": {
        "id": "RSfReSfm24dz",
        "colab_type": "text"
      },
      "cell_type": "markdown",
      "source": [
        "Once we define a model class, we can instantiate a model out of it. For example:"
      ]
    },
    {
      "metadata": {
        "id": "rpOHK2BM24d0",
        "colab_type": "code",
        "colab": {
          "base_uri": "https://localhost:8080/",
          "height": 118
        },
        "outputId": "3c81aea5-667b-468b-b4bd-051d172f19a2"
      },
      "cell_type": "code",
      "source": [
        "xor_model_3 = XorModel(dim_input, dim_hidden, dim_output)\n",
        "print('Model 3:\\n{}'.format(xor_model_3))"
      ],
      "execution_count": 81,
      "outputs": [
        {
          "output_type": "stream",
          "text": [
            "Model 3:\n",
            "XorModel(\n",
            "  (_input_to_hidden): Linear(in_features=2, out_features=8, bias=True)\n",
            "  (_sigmoid): Sigmoid()\n",
            "  (_hidden_to_output): Linear(in_features=8, out_features=1, bias=True)\n",
            ")\n"
          ],
          "name": "stdout"
        }
      ]
    },
    {
      "metadata": {
        "id": "_VcWgS8m24d2",
        "colab_type": "text"
      },
      "cell_type": "markdown",
      "source": [
        "### Training"
      ]
    },
    {
      "metadata": {
        "id": "OjGlejDE24d3",
        "colab_type": "text"
      },
      "cell_type": "markdown",
      "source": [
        "Training is pretty much the same."
      ]
    },
    {
      "metadata": {
        "id": "Mspf49mD24d3",
        "colab_type": "code",
        "colab": {
          "base_uri": "https://localhost:8080/",
          "height": 296
        },
        "outputId": "16897b01-514e-4a0c-d626-5939f3f30e1d"
      },
      "cell_type": "code",
      "source": [
        "train_model(xor_model_3, training_set)"
      ],
      "execution_count": 82,
      "outputs": [
        {
          "output_type": "stream",
          "text": [
            "100%|██████████| 40/40 [00:12<00:00,  3.38it/s]\n"
          ],
          "name": "stderr"
        },
        {
          "output_type": "display_data",
          "data": {
            "image/png": "[encoded data removed]",
            "text/plain": [
              "<matplotlib.figure.Figure at 0x7fad54866898>"
            ]
          },
          "metadata": {
            "tags": []
          }
        }
      ]
    },
    {
      "metadata": {
        "id": "VUxcr8bG24d6",
        "colab_type": "text"
      },
      "cell_type": "markdown",
      "source": [
        "### Testing"
      ]
    },
    {
      "metadata": {
        "id": "dGhNbak524d6",
        "colab_type": "text"
      },
      "cell_type": "markdown",
      "source": [
        "Testing is also the same."
      ]
    },
    {
      "metadata": {
        "id": "p6OMCCmC24d6",
        "colab_type": "code",
        "colab": {
          "base_uri": "https://localhost:8080/",
          "height": 1730
        },
        "outputId": "050ae29d-6651-44b6-b0af-f3ef4973f684"
      },
      "cell_type": "code",
      "source": [
        "test_model(xor_model_3, testing_set)"
      ],
      "execution_count": 83,
      "outputs": [
        {
          "output_type": "stream",
          "text": [
            "False XOR  True =  True  |  prediction =  True  |  Correct\n",
            " True XOR False =  True  |  prediction =  True  |  Correct\n",
            " True XOR  True = False  |  prediction = False  |  Correct\n",
            "False XOR False = False  |  prediction = False  |  Correct\n",
            " True XOR  True = False  |  prediction = False  |  Correct\n",
            " True XOR False =  True  |  prediction =  True  |  Correct\n",
            " True XOR  True = False  |  prediction = False  |  Correct\n",
            "False XOR  True =  True  |  prediction =  True  |  Correct\n",
            " True XOR  True = False  |  prediction = False  |  Correct\n",
            "False XOR  True =  True  |  prediction =  True  |  Correct\n",
            " True XOR False =  True  |  prediction =  True  |  Correct\n",
            " True XOR  True = False  |  prediction = False  |  Correct\n",
            " True XOR  True = False  |  prediction = False  |  Correct\n",
            " True XOR  True = False  |  prediction = False  |  Correct\n",
            "False XOR  True =  True  |  prediction =  True  |  Correct\n",
            " True XOR False =  True  |  prediction =  True  |  Correct\n",
            "False XOR False = False  |  prediction = False  |  Correct\n",
            "False XOR False = False  |  prediction = False  |  Correct\n",
            " True XOR False =  True  |  prediction =  True  |  Correct\n",
            "False XOR False = False  |  prediction = False  |  Correct\n",
            " True XOR  True = False  |  prediction = False  |  Correct\n",
            "False XOR  True =  True  |  prediction =  True  |  Correct\n",
            "False XOR False = False  |  prediction = False  |  Correct\n",
            " True XOR  True = False  |  prediction = False  |  Correct\n",
            "False XOR False = False  |  prediction = False  |  Correct\n",
            " True XOR False =  True  |  prediction =  True  |  Correct\n",
            "False XOR  True =  True  |  prediction =  True  |  Correct\n",
            "False XOR  True =  True  |  prediction =  True  |  Correct\n",
            " True XOR  True = False  |  prediction = False  |  Correct\n",
            " True XOR False =  True  |  prediction =  True  |  Correct\n",
            "False XOR  True =  True  |  prediction =  True  |  Correct\n",
            " True XOR  True = False  |  prediction = False  |  Correct\n",
            " True XOR False =  True  |  prediction =  True  |  Correct\n",
            "False XOR  True =  True  |  prediction =  True  |  Correct\n",
            "False XOR  True =  True  |  prediction =  True  |  Correct\n",
            " True XOR False =  True  |  prediction =  True  |  Correct\n",
            " True XOR False =  True  |  prediction =  True  |  Correct\n",
            " True XOR  True = False  |  prediction = False  |  Correct\n",
            " True XOR  True = False  |  prediction = False  |  Correct\n",
            " True XOR  True = False  |  prediction = False  |  Correct\n",
            " True XOR  True = False  |  prediction = False  |  Correct\n",
            " True XOR False =  True  |  prediction =  True  |  Correct\n",
            " True XOR False =  True  |  prediction =  True  |  Correct\n",
            "False XOR False = False  |  prediction = False  |  Correct\n",
            "False XOR  True =  True  |  prediction =  True  |  Correct\n",
            " True XOR False =  True  |  prediction =  True  |  Correct\n",
            " True XOR False =  True  |  prediction =  True  |  Correct\n",
            " True XOR False =  True  |  prediction =  True  |  Correct\n",
            "False XOR  True =  True  |  prediction =  True  |  Correct\n",
            " True XOR False =  True  |  prediction =  True  |  Correct\n",
            " True XOR False =  True  |  prediction =  True  |  Correct\n",
            "False XOR False = False  |  prediction = False  |  Correct\n",
            "False XOR False = False  |  prediction = False  |  Correct\n",
            " True XOR  True = False  |  prediction = False  |  Correct\n",
            "False XOR False = False  |  prediction = False  |  Correct\n",
            "False XOR  True =  True  |  prediction =  True  |  Correct\n",
            " True XOR  True = False  |  prediction = False  |  Correct\n",
            "False XOR  True =  True  |  prediction =  True  |  Correct\n",
            " True XOR  True = False  |  prediction = False  |  Correct\n",
            "False XOR False = False  |  prediction = False  |  Correct\n",
            "False XOR  True =  True  |  prediction =  True  |  Correct\n",
            "False XOR False = False  |  prediction = False  |  Correct\n",
            "False XOR  True =  True  |  prediction =  True  |  Correct\n",
            "False XOR  True =  True  |  prediction =  True  |  Correct\n",
            "False XOR  True =  True  |  prediction =  True  |  Correct\n",
            " True XOR False =  True  |  prediction =  True  |  Correct\n",
            " True XOR False =  True  |  prediction =  True  |  Correct\n",
            "False XOR False = False  |  prediction = False  |  Correct\n",
            "False XOR False = False  |  prediction = False  |  Correct\n",
            "False XOR False = False  |  prediction = False  |  Correct\n",
            "False XOR  True =  True  |  prediction =  True  |  Correct\n",
            " True XOR  True = False  |  prediction = False  |  Correct\n",
            "False XOR False = False  |  prediction = False  |  Correct\n",
            "False XOR  True =  True  |  prediction =  True  |  Correct\n",
            " True XOR  True = False  |  prediction = False  |  Correct\n",
            "False XOR False = False  |  prediction = False  |  Correct\n",
            "False XOR False = False  |  prediction = False  |  Correct\n",
            "False XOR False = False  |  prediction = False  |  Correct\n",
            " True XOR  True = False  |  prediction = False  |  Correct\n",
            " True XOR False =  True  |  prediction =  True  |  Correct\n",
            "False XOR  True =  True  |  prediction =  True  |  Correct\n",
            " True XOR False =  True  |  prediction =  True  |  Correct\n",
            " True XOR False =  True  |  prediction =  True  |  Correct\n",
            "False XOR  True =  True  |  prediction =  True  |  Correct\n",
            " True XOR False =  True  |  prediction =  True  |  Correct\n",
            " True XOR False =  True  |  prediction =  True  |  Correct\n",
            " True XOR False =  True  |  prediction =  True  |  Correct\n",
            " True XOR  True = False  |  prediction = False  |  Correct\n",
            " True XOR  True = False  |  prediction = False  |  Correct\n",
            " True XOR False =  True  |  prediction =  True  |  Correct\n",
            " True XOR False =  True  |  prediction =  True  |  Correct\n",
            " True XOR  True = False  |  prediction = False  |  Correct\n",
            " True XOR  True = False  |  prediction = False  |  Correct\n",
            "False XOR  True =  True  |  prediction =  True  |  Correct\n",
            " True XOR  True = False  |  prediction = False  |  Correct\n",
            " True XOR False =  True  |  prediction =  True  |  Correct\n",
            " True XOR False =  True  |  prediction =  True  |  Correct\n",
            "False XOR False = False  |  prediction = False  |  Correct\n",
            "False XOR  True =  True  |  prediction =  True  |  Correct\n",
            "False XOR False = False  |  prediction = False  |  Correct\n",
            "\n",
            "Accuracy = 100.0\n"
          ],
          "name": "stdout"
        }
      ]
    },
    {
      "metadata": {
        "id": "t810tY0K24d8",
        "colab_type": "text"
      },
      "cell_type": "markdown",
      "source": [
        "-------"
      ]
    },
    {
      "metadata": {
        "id": "D99ibRQL24d9",
        "colab_type": "text"
      },
      "cell_type": "markdown",
      "source": [
        "## Exercises"
      ]
    },
    {
      "metadata": {
        "id": "zvIgKXeW24d9",
        "colab_type": "text"
      },
      "cell_type": "markdown",
      "source": [
        "### Exercise 1: Redesigning the Neural Architecture"
      ]
    },
    {
      "metadata": {
        "id": "inBeYa3324d9",
        "colab_type": "text"
      },
      "cell_type": "markdown",
      "source": [
        "Let's tweak Model 1 to boost its accuracy and convergence speed. Add linear layers and/or activation functions as much as you like and observe the training loss and accuracy achieved."
      ]
    },
    {
      "metadata": {
        "id": "Q3GkZO-424d-",
        "colab_type": "code",
        "colab": {
          "base_uri": "https://localhost:8080/",
          "height": 118
        },
        "outputId": "6056186e-671b-4607-f2d2-2d77ac61c0bb"
      },
      "cell_type": "code",
      "source": [
        "# Add some more layers and/or activation functions to improve the speed of convergence\n",
        "xor_model_ex1 = N.Sequential(\n",
        "    N.Linear(dim_input, dim_hidden),\n",
        "    N.ReLU(),\n",
        "    N.Linear(dim_hidden, dim_output)\n",
        ")\n",
        "\n",
        "print('Model Ex1:\\n{}'.format(xor_model_ex1))"
      ],
      "execution_count": 86,
      "outputs": [
        {
          "output_type": "stream",
          "text": [
            "Model Ex1:\n",
            "Sequential(\n",
            "  (0): Linear(in_features=2, out_features=8, bias=True)\n",
            "  (1): ReLU()\n",
            "  (2): Linear(in_features=8, out_features=1, bias=True)\n",
            ")\n"
          ],
          "name": "stdout"
        }
      ]
    },
    {
      "metadata": {
        "id": "YjfjRJpe24eB",
        "colab_type": "text"
      },
      "cell_type": "markdown",
      "source": [
        "Now observe the training loss. Is the convergence getting faster?"
      ]
    },
    {
      "metadata": {
        "id": "eNto9nLR24eB",
        "colab_type": "code",
        "colab": {
          "base_uri": "https://localhost:8080/",
          "height": 297
        },
        "outputId": "965573d6-9aee-446f-9ce0-3cde4fcd3d1d"
      },
      "cell_type": "code",
      "source": [
        "train_model(xor_model_ex1, training_set)"
      ],
      "execution_count": 87,
      "outputs": [
        {
          "output_type": "stream",
          "text": [
            "100%|██████████| 40/40 [00:11<00:00,  3.38it/s]\n"
          ],
          "name": "stderr"
        },
        {
          "output_type": "display_data",
          "data": {
            "image/png": "[encoded data removed]",
            "text/plain": [
              "<matplotlib.figure.Figure at 0x7fad54861f60>"
            ]
          },
          "metadata": {
            "tags": []
          }
        }
      ]
    },
    {
      "metadata": {
        "id": "VF9-WqeL24eD",
        "colab_type": "text"
      },
      "cell_type": "markdown",
      "source": [
        "### Parameterized Training Procedure for Hacking"
      ]
    },
    {
      "metadata": {
        "id": "1hGrBKtu24eE",
        "colab_type": "text"
      },
      "cell_type": "markdown",
      "source": [
        "I slightly modified the training procedure to allow experiments on different loss functions and parameter optimizers."
      ]
    },
    {
      "metadata": {
        "id": "y5PsEgOU24eF",
        "colab_type": "code",
        "colab": {}
      },
      "cell_type": "code",
      "source": [
        "def train_model_for_hacking(xor_model, training_data, loss_fn, optimizer):\n",
        "    no_samples = len(training_data)\n",
        "    loss_history = []\n",
        "    \n",
        "    for i in tqdm(range(epochs), leave=False):\n",
        "        total_loss = 0.0\n",
        "        random.shuffle(training_data)\n",
        "        \n",
        "        for (input_features, output_class) in training_data:\n",
        "            ((a, b), q) = (input_features, output_class)\n",
        "            \n",
        "            x = T.zeros(dim_input)     # Input vector\n",
        "            y = T.zeros(dim_output)    # Output vector\n",
        "            if a: x[0] = 1.0\n",
        "            if b: x[1] = 1.0\n",
        "            if q: y[0] = 1.0\n",
        "                \n",
        "            prediction = xor_model(x)  # Perform prediction\n",
        "            \n",
        "            loss = loss_fn(prediction, y)\n",
        "            total_loss += loss.item()\n",
        "            \n",
        "            optimizer.zero_grad()      # Clear gradient cache\n",
        "            loss.backward()            # Perform backpropagation\n",
        "            optimizer.step()           # Update the model parameters\n",
        "        \n",
        "        loss_history.append(total_loss / no_samples)\n",
        "        \n",
        "    # Plot the loss history with Matplotlib\n",
        "    epoch_count = range(1, epochs + 1)\n",
        "    plt.plot(epoch_count, loss_history, 'b--')\n",
        "    plt.legend(['Training Loss'])\n",
        "    plt.xlabel('Epoch')\n",
        "    plt.ylabel('Loss')\n",
        "    plt.show()"
      ],
      "execution_count": 0,
      "outputs": []
    },
    {
      "metadata": {
        "id": "CMuro9kV24eH",
        "colab_type": "text"
      },
      "cell_type": "markdown",
      "source": [
        "### Exercise 2: Varying the Optimizers"
      ]
    },
    {
      "metadata": {
        "id": "MCSKwWSK24eH",
        "colab_type": "text"
      },
      "cell_type": "markdown",
      "source": [
        "Now let's vary the parameter optimizers. Observe the training loss obtained from each optimizer. Which one converges faster?"
      ]
    },
    {
      "metadata": {
        "id": "pxXB4xi324eI",
        "colab_type": "code",
        "colab": {
          "base_uri": "https://localhost:8080/",
          "height": 854
        },
        "outputId": "a9410e72-6969-4016-e8f8-2ef2a391a50b"
      },
      "cell_type": "code",
      "source": [
        "learning_rate_ex2 = 0.01\n",
        "\n",
        "print('Stochastic Gradient Descent')\n",
        "xor_model_sgd = XorModel(dim_input, dim_hidden, dim_output)\n",
        "sgd = O.SGD(xor_model_sgd.parameters(), lr=learning_rate_ex2)\n",
        "train_model_for_hacking(xor_model_sgd, training_set, N.MSELoss(), sgd)\n",
        "\n",
        "print('Adamax')\n",
        "xor_model_adamax = XorModel(dim_input, dim_hidden, dim_output)\n",
        "adamax = O.Adamax(xor_model_adamax.parameters(), lr=learning_rate_ex2)\n",
        "train_model_for_hacking(xor_model_adamax, training_set, N.MSELoss(), adamax)\n",
        "\n",
        "print('ADAM')\n",
        "xor_model_adam = XorModel(dim_input, dim_hidden, dim_output)\n",
        "adam = O.Adam(xor_model_adam.parameters(), lr=learning_rate_ex2)\n",
        "train_model_for_hacking(xor_model_adam, training_set, N.MSELoss(), adam)"
      ],
      "execution_count": 89,
      "outputs": [
        {
          "output_type": "stream",
          "text": [
            "\r  0%|          | 0/40 [00:00<?, ?it/s]"
          ],
          "name": "stderr"
        },
        {
          "output_type": "stream",
          "text": [
            "Stochastic Gradient Descent\n"
          ],
          "name": "stdout"
        },
        {
          "output_type": "stream",
          "text": [
            ""
          ],
          "name": "stderr"
        },
        {
          "output_type": "display_data",
          "data": {
            "image/png": "[encoded data removed]",
            "text/plain": [
              "<matplotlib.figure.Figure at 0x7fad54866198>"
            ]
          },
          "metadata": {
            "tags": []
          }
        },
        {
          "output_type": "stream",
          "text": [
            "\r  0%|          | 0/40 [00:00<?, ?it/s]"
          ],
          "name": "stderr"
        },
        {
          "output_type": "stream",
          "text": [
            "Adamax\n"
          ],
          "name": "stdout"
        },
        {
          "output_type": "stream",
          "text": [
            ""
          ],
          "name": "stderr"
        },
        {
          "output_type": "display_data",
          "data": {
            "image/png": "[encoded data removed]",
            "text/plain": [
              "<matplotlib.figure.Figure at 0x7fad54c08c18>"
            ]
          },
          "metadata": {
            "tags": []
          }
        },
        {
          "output_type": "stream",
          "text": [
            "\r  0%|          | 0/40 [00:00<?, ?it/s]"
          ],
          "name": "stderr"
        },
        {
          "output_type": "stream",
          "text": [
            "ADAM\n"
          ],
          "name": "stdout"
        },
        {
          "output_type": "stream",
          "text": [
            ""
          ],
          "name": "stderr"
        },
        {
          "output_type": "display_data",
          "data": {
            "image/png": "[encoded data removed]",
            "text/plain": [
              "<matplotlib.figure.Figure at 0x7fad54cb1e48>"
            ]
          },
          "metadata": {
            "tags": []
          }
        }
      ]
    },
    {
      "metadata": {
        "id": "NS2Kv0yJ24eM",
        "colab_type": "text"
      },
      "cell_type": "markdown",
      "source": [
        "### Exercise 3: Varying the Learning Rates"
      ]
    },
    {
      "metadata": {
        "id": "OE3I7Xuf24eM",
        "colab_type": "text"
      },
      "cell_type": "markdown",
      "source": [
        "Now let's vary the learning rates. Observe the training loss obtained from each learning rate.\n",
        "\n",
        "1. For some learning rates, the training loss fluctuates substantially. Explain why.\n",
        "2. For some learning rates, the training loss converges too slowly. Explain why.\n",
        "3. Which learning rate is the best in terms of the training loss?"
      ]
    },
    {
      "metadata": {
        "id": "bA0_MPUi24eN",
        "colab_type": "code",
        "colab": {
          "base_uri": "https://localhost:8080/",
          "height": 2250
        },
        "outputId": "feae398d-d54d-4e51-c32b-23d77c447e9c"
      },
      "cell_type": "code",
      "source": [
        "for learning_rate_ex3 in [ 0.05,0.045,0.04, 0.03, 0.02, 0.01, 0.008, 0.006]:\n",
        "    print('Learning rate = {}'.format(learning_rate_ex3))\n",
        "    xor_model = XorModel(dim_input, dim_hidden, dim_output)\n",
        "    optimizer = O.Adam(xor_model.parameters(), lr=learning_rate_ex3)\n",
        "    train_model_for_hacking(xor_model, training_set, N.MSELoss(), optimizer)"
      ],
      "execution_count": 93,
      "outputs": [
        {
          "output_type": "stream",
          "text": [
            "\r  0%|          | 0/40 [00:00<?, ?it/s]"
          ],
          "name": "stderr"
        },
        {
          "output_type": "stream",
          "text": [
            "Learning rate = 0.05\n"
          ],
          "name": "stdout"
        },
        {
          "output_type": "stream",
          "text": [
            ""
          ],
          "name": "stderr"
        },
        {
          "output_type": "display_data",
          "data": {
            "image/png": "[encoded data removed]",
            "text/plain": [
              "<matplotlib.figure.Figure at 0x7fad54b16668>"
            ]
          },
          "metadata": {
            "tags": []
          }
        },
        {
          "output_type": "stream",
          "text": [
            "\r  0%|          | 0/40 [00:00<?, ?it/s]"
          ],
          "name": "stderr"
        },
        {
          "output_type": "stream",
          "text": [
            "Learning rate = 0.045\n"
          ],
          "name": "stdout"
        },
        {
          "output_type": "stream",
          "text": [
            ""
          ],
          "name": "stderr"
        },
        {
          "output_type": "display_data",
          "data": {
            "image/png": "[encoded data removed]",
            "text/plain": [
              "<matplotlib.figure.Figure at 0x7fad54b16128>"
            ]
          },
          "metadata": {
            "tags": []
          }
        },
        {
          "output_type": "stream",
          "text": [
            "\r  0%|          | 0/40 [00:00<?, ?it/s]"
          ],
          "name": "stderr"
        },
        {
          "output_type": "stream",
          "text": [
            "Learning rate = 0.04\n"
          ],
          "name": "stdout"
        },
        {
          "output_type": "stream",
          "text": [
            ""
          ],
          "name": "stderr"
        },
        {
          "output_type": "display_data",
          "data": {
            "image/png": "[encoded data removed]",
            "text/plain": [
              "<matplotlib.figure.Figure at 0x7fad54939a90>"
            ]
          },
          "metadata": {
            "tags": []
          }
        },
        {
          "output_type": "stream",
          "text": [
            "\r  0%|          | 0/40 [00:00<?, ?it/s]"
          ],
          "name": "stderr"
        },
        {
          "output_type": "stream",
          "text": [
            "Learning rate = 0.03\n"
          ],
          "name": "stdout"
        },
        {
          "output_type": "stream",
          "text": [
            ""
          ],
          "name": "stderr"
        },
        {
          "output_type": "display_data",
          "data": {
            "image/png": "[encoded data removed]",
            "text/plain": [
              "<matplotlib.figure.Figure at 0x7fad54b6bf98>"
            ]
          },
          "metadata": {
            "tags": []
          }
        },
        {
          "output_type": "stream",
          "text": [
            "\r  0%|          | 0/40 [00:00<?, ?it/s]"
          ],
          "name": "stderr"
        },
        {
          "output_type": "stream",
          "text": [
            "Learning rate = 0.02\n"
          ],
          "name": "stdout"
        },
        {
          "output_type": "stream",
          "text": [
            ""
          ],
          "name": "stderr"
        },
        {
          "output_type": "display_data",
          "data": {
            "image/png": "[encoded data removed]",
            "text/plain": [
              "<matplotlib.figure.Figure at 0x7fad54b6b5c0>"
            ]
          },
          "metadata": {
            "tags": []
          }
        },
        {
          "output_type": "stream",
          "text": [
            "\r  0%|          | 0/40 [00:00<?, ?it/s]"
          ],
          "name": "stderr"
        },
        {
          "output_type": "stream",
          "text": [
            "Learning rate = 0.01\n"
          ],
          "name": "stdout"
        },
        {
          "output_type": "stream",
          "text": [
            ""
          ],
          "name": "stderr"
        },
        {
          "output_type": "display_data",
          "data": {
            "image/png": "[encoded data removed]",
            "text/plain": [
              "<matplotlib.figure.Figure at 0x7fad54a64fd0>"
            ]
          },
          "metadata": {
            "tags": []
          }
        },
        {
          "output_type": "stream",
          "text": [
            "\r  0%|          | 0/40 [00:00<?, ?it/s]"
          ],
          "name": "stderr"
        },
        {
          "output_type": "stream",
          "text": [
            "Learning rate = 0.008\n"
          ],
          "name": "stdout"
        },
        {
          "output_type": "stream",
          "text": [
            ""
          ],
          "name": "stderr"
        },
        {
          "output_type": "display_data",
          "data": {
            "image/png": "[encoded data removed]",
            "text/plain": [
              "<matplotlib.figure.Figure at 0x7fad548ea0b8>"
            ]
          },
          "metadata": {
            "tags": []
          }
        },
        {
          "output_type": "stream",
          "text": [
            "\r  0%|          | 0/40 [00:00<?, ?it/s]"
          ],
          "name": "stderr"
        },
        {
          "output_type": "stream",
          "text": [
            "Learning rate = 0.006\n"
          ],
          "name": "stdout"
        },
        {
          "output_type": "stream",
          "text": [
            ""
          ],
          "name": "stderr"
        },
        {
          "output_type": "display_data",
          "data": {
            "image/png": "[encoded data removed]",
            "text/plain": [
              "<matplotlib.figure.Figure at 0x7fad54d2e908>"
            ]
          },
          "metadata": {
            "tags": []
          }
        }
      ]
    }
  ]
}