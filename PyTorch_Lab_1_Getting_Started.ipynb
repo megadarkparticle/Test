{
  "nbformat": 4,
  "nbformat_minor": 0,
  "metadata": {
    "colab": {
      "name": "PyTorch Lab 1 - Getting Started.ipynb",
      "version": "0.3.2",
      "provenance": [],
      "collapsed_sections": [],
      "include_colab_link": true
    },
    "kernelspec": {
      "display_name": "Python 3",
      "language": "python",
      "name": "python3"
    }
  },
  "cells": [
    {
      "cell_type": "markdown",
      "metadata": {
        "id": "view-in-github",
        "colab_type": "text"
      },
      "source": [
        "[View in Colaboratory](https://colab.research.google.com/github/megadarkparticle/Test/blob/master/PyTorch_Lab_1_Getting_Started.ipynb)"
      ]
    },
    {
      "metadata": {
        "id": "t_vi7CrJ1zRF",
        "colab_type": "text"
      },
      "cell_type": "markdown",
      "source": [
        "# PyTorch Lab 1\n",
        "\n",
        "Written by Prachya Boonkwan (Arm)"
      ]
    },
    {
      "metadata": {
        "id": "ZCjNTuFB2IG_",
        "colab_type": "code",
        "colab": {}
      },
      "cell_type": "code",
      "source": [
        "!pip install -q http://download.pytorch.org/whl/cpu/torch-0.4.1-cp36-cp36m-linux_x86_64.whl torchvision"
      ],
      "execution_count": 0,
      "outputs": []
    },
    {
      "metadata": {
        "id": "o5f2HU-a1zRJ",
        "colab_type": "text"
      },
      "cell_type": "markdown",
      "source": [
        "## Getting Started"
      ]
    },
    {
      "metadata": {
        "id": "ZAkhU3R_1zRN",
        "colab_type": "text"
      },
      "cell_type": "markdown",
      "source": [
        "Let's give it a try on PyTorch. We are going to do simple vector/matrix computation."
      ]
    },
    {
      "metadata": {
        "id": "uhR4rM4i1zRT",
        "colab_type": "text"
      },
      "cell_type": "markdown",
      "source": [
        "## Header"
      ]
    },
    {
      "metadata": {
        "id": "0WTnpSgY1zRX",
        "colab_type": "text"
      },
      "cell_type": "markdown",
      "source": [
        "This part is the header of the code. My favorite import aliases for PyTorch are as follows. This will be very useful for speed coding."
      ]
    },
    {
      "metadata": {
        "id": "rV6R84KC1zRa",
        "colab_type": "code",
        "colab": {}
      },
      "cell_type": "code",
      "source": [
        "#!/usr/bin/env python3\n",
        "#-*- coding: utf-8 -*-\n",
        "\n",
        "import torch as T\n",
        "import torch.nn as N\n",
        "import torch.optim as O"
      ],
      "execution_count": 0,
      "outputs": []
    },
    {
      "metadata": {
        "id": "BkdDcDBX1zRn",
        "colab_type": "text"
      },
      "cell_type": "markdown",
      "source": [
        "*TRICK:* You can partially type in a command and press `[TAB]` to complete it. In the following line, remove the comment sign `#`, then type in `T.FloatT` after the equal sign. Press `[TAB]` to see a dropdown list of available commands."
      ]
    },
    {
      "metadata": {
        "id": "0Attks1-1zRq",
        "colab_type": "code",
        "colab": {}
      },
      "cell_type": "code",
      "source": [
        "# my_matrix = "
      ],
      "execution_count": 0,
      "outputs": []
    },
    {
      "metadata": {
        "id": "SsyEVXLg1zRy",
        "colab_type": "text"
      },
      "cell_type": "markdown",
      "source": [
        "------"
      ]
    },
    {
      "metadata": {
        "id": "83INF2Rd1zR1",
        "colab_type": "text"
      },
      "cell_type": "markdown",
      "source": [
        "## Vectors"
      ]
    },
    {
      "metadata": {
        "id": "Tj_idqF_1zR3",
        "colab_type": "text"
      },
      "cell_type": "markdown",
      "source": [
        "**0-Vector:** This is how we declare a vector. Let's begin with a 0-vector using the command `T.zeros`. For example, `T.zeros(3)` will create the vector $\\left[ \n",
        "\\begin{array}{ccc}\n",
        "    0 & 0 & 0\n",
        "\\end{array} \\right]$."
      ]
    },
    {
      "metadata": {
        "id": "wIdD5_sS1zR5",
        "colab_type": "code",
        "colab": {
          "base_uri": "https://localhost:8080/",
          "height": 34
        },
        "outputId": "4f9f555b-bdca-4b8e-85e7-21a518611a24"
      },
      "cell_type": "code",
      "source": [
        "vec1 = T.zeros(3)     # Change the number of elements for more fun.\n",
        "print(vec1)"
      ],
      "execution_count": 0,
      "outputs": [
        {
          "output_type": "stream",
          "text": [
            "tensor([0., 0., 0.])\n"
          ],
          "name": "stdout"
        }
      ]
    },
    {
      "metadata": {
        "id": "EX4o0F-h1zSK",
        "colab_type": "text"
      },
      "cell_type": "markdown",
      "source": [
        "**1-Vector:** This is how we declare a 1-vector with the command `T.ones`. For example, `T.ones(3)` will create the vector $\\left[ \n",
        "\\begin{array}{ccc}\n",
        "    1 & 1 & 1\n",
        "\\end{array} \\right]$."
      ]
    },
    {
      "metadata": {
        "id": "bA5pwiRn1zSL",
        "colab_type": "code",
        "colab": {
          "base_uri": "https://localhost:8080/",
          "height": 34
        },
        "outputId": "5667416b-354a-40cf-84b9-7b72ab0b671e"
      },
      "cell_type": "code",
      "source": [
        "vec2 = T.ones(3)      # Change the number of elements for more fun.\n",
        "print(vec2)"
      ],
      "execution_count": 0,
      "outputs": [
        {
          "output_type": "stream",
          "text": [
            "tensor([1., 1., 1.])\n"
          ],
          "name": "stdout"
        }
      ]
    },
    {
      "metadata": {
        "id": "NAcrYDpY1zST",
        "colab_type": "text"
      },
      "cell_type": "markdown",
      "source": [
        "**Custom Vector:** We declare a custom vector with `T.FloatTensor`. Here is how we define the vector $\n",
        "\\left[ \\begin{array}{ccc}\n",
        "    1, 2, 3\n",
        "\\end{array} \\right]\n",
        "$."
      ]
    },
    {
      "metadata": {
        "id": "oyzu9ryQ1zSU",
        "colab_type": "code",
        "colab": {
          "base_uri": "https://localhost:8080/",
          "height": 34
        },
        "outputId": "8f9364db-91e9-4ac5-ae50-2c34b300ab77"
      },
      "cell_type": "code",
      "source": [
        "vec3 = T.FloatTensor([1.0, 2.0, 3.0])    # Add more elements for more fun.\n",
        "print(vec3)"
      ],
      "execution_count": 0,
      "outputs": [
        {
          "output_type": "stream",
          "text": [
            "tensor([1., 2., 3.])\n"
          ],
          "name": "stdout"
        }
      ]
    },
    {
      "metadata": {
        "id": "g8f67D8mly3p",
        "colab_type": "text"
      },
      "cell_type": "markdown",
      "source": [
        "**Size:** We can find the size of a vector with the method `size()`."
      ]
    },
    {
      "metadata": {
        "id": "ERSbLaP_l44V",
        "colab_type": "code",
        "colab": {
          "base_uri": "https://localhost:8080/",
          "height": 34
        },
        "outputId": "f26df6f0-5d49-4f19-c0ba-2223758520a1"
      },
      "cell_type": "code",
      "source": [
        "print(vec3.size())"
      ],
      "execution_count": 0,
      "outputs": [
        {
          "output_type": "stream",
          "text": [
            "torch.Size([3])\n"
          ],
          "name": "stdout"
        }
      ]
    },
    {
      "metadata": {
        "id": "avOiLSaT1zSc",
        "colab_type": "text"
      },
      "cell_type": "markdown",
      "source": [
        "**Randomized Vector:** Randomized vectors can be defined with `T.randn`."
      ]
    },
    {
      "metadata": {
        "id": "mK3HlP031zSd",
        "colab_type": "code",
        "colab": {
          "base_uri": "https://localhost:8080/",
          "height": 34
        },
        "outputId": "6f45e250-6165-41f7-bdfa-623afb450060"
      },
      "cell_type": "code",
      "source": [
        "vec4 = T.randn(3)\n",
        "print(vec4)"
      ],
      "execution_count": 0,
      "outputs": [
        {
          "output_type": "stream",
          "text": [
            "tensor([1.6993, 0.2972, 0.9210])\n"
          ],
          "name": "stdout"
        }
      ]
    },
    {
      "metadata": {
        "id": "CZeQXJUI1zSj",
        "colab_type": "text"
      },
      "cell_type": "markdown",
      "source": [
        "**Indexing:** We can refer to an element in a vector by indexing `[]`. Note that the index starts with 0."
      ]
    },
    {
      "metadata": {
        "id": "guT8m__81zSj",
        "colab_type": "code",
        "colab": {
          "base_uri": "https://localhost:8080/",
          "height": 34
        },
        "outputId": "96a2fe4f-aad5-4a8f-80a3-a3a096a105ea"
      },
      "cell_type": "code",
      "source": [
        "print(vec3[1])           # the second element"
      ],
      "execution_count": 0,
      "outputs": [
        {
          "output_type": "stream",
          "text": [
            "tensor(2.)\n"
          ],
          "name": "stdout"
        }
      ]
    },
    {
      "metadata": {
        "id": "wkV4C1HM1zSo",
        "colab_type": "code",
        "colab": {
          "base_uri": "https://localhost:8080/",
          "height": 34
        },
        "outputId": "205e8dde-bd8b-4904-a22b-43648ea3a822"
      },
      "cell_type": "code",
      "source": [
        "print(vec3[2])           # the third element"
      ],
      "execution_count": 0,
      "outputs": [
        {
          "output_type": "stream",
          "text": [
            "tensor(3.)\n"
          ],
          "name": "stdout"
        }
      ]
    },
    {
      "metadata": {
        "id": "ny7CZCgR1zSt",
        "colab_type": "code",
        "colab": {
          "base_uri": "https://localhost:8080/",
          "height": 209
        },
        "outputId": "cfffb393-c04f-4186-cf99-36a30bdda13b"
      },
      "cell_type": "code",
      "source": [
        "# print(vec3[20])          # This will cause an error message due to out-of-bounds indexing"
      ],
      "execution_count": 0,
      "outputs": [
        {
          "output_type": "error",
          "ename": "IndexError",
          "evalue": "ignored",
          "traceback": [
            "\u001b[0;31m---------------------------------------------------------------------------\u001b[0m",
            "\u001b[0;31mIndexError\u001b[0m                                Traceback (most recent call last)",
            "\u001b[0;32m<ipython-input-39-8f5e7d5c5a1e>\u001b[0m in \u001b[0;36m<module>\u001b[0;34m()\u001b[0m\n\u001b[0;32m----> 1\u001b[0;31m \u001b[0mprint\u001b[0m\u001b[0;34m(\u001b[0m\u001b[0mvec3\u001b[0m\u001b[0;34m[\u001b[0m\u001b[0;36m20\u001b[0m\u001b[0;34m]\u001b[0m\u001b[0;34m)\u001b[0m          \u001b[0;31m# This will cause an error message due to out-of-bounds indexing\u001b[0m\u001b[0;34m\u001b[0m\u001b[0m\n\u001b[0m",
            "\u001b[0;31mIndexError\u001b[0m: index 20 is out of bounds for dimension 0 with size 3"
          ]
        }
      ]
    },
    {
      "metadata": {
        "id": "ttUGiKb91zSy",
        "colab_type": "text"
      },
      "cell_type": "markdown",
      "source": [
        "**Element Setting:** We can also set the value of a vector's element by indexing `[]`. For example, let's set the second element of `vec3` to be 100."
      ]
    },
    {
      "metadata": {
        "id": "PBDirCi31zSz",
        "colab_type": "code",
        "colab": {
          "base_uri": "https://localhost:8080/",
          "height": 51
        },
        "outputId": "8c6a92a0-e7f5-4c85-da90-ac456f0b0195"
      },
      "cell_type": "code",
      "source": [
        "vec5 = T.FloatTensor([1.0, 2.0, 3.0])\n",
        "\n",
        "print('Before: vec5 = {}'.format(vec5))\n",
        "vec5[1] = 100            # Set the second element to be 100.\n",
        "print('After : vec5 = {}'.format(vec5))"
      ],
      "execution_count": 0,
      "outputs": [
        {
          "output_type": "stream",
          "text": [
            "Before: vec5 = tensor([1., 2., 3.])\n",
            "After : vec5 = tensor([  1., 100.,   3.])\n"
          ],
          "name": "stdout"
        }
      ]
    },
    {
      "metadata": {
        "id": "QkdF2VMR1zS4",
        "colab_type": "text"
      },
      "cell_type": "markdown",
      "source": [
        "-----"
      ]
    },
    {
      "metadata": {
        "id": "Mok7z2CP1zS5",
        "colab_type": "text"
      },
      "cell_type": "markdown",
      "source": [
        "## Matrices"
      ]
    },
    {
      "metadata": {
        "id": "dJoD-qPO1zS6",
        "colab_type": "text"
      },
      "cell_type": "markdown",
      "source": [
        "**0-Vector:** This is how we declare a matrix. A 0-matrix can again be defined with `T.zeros`, but this time we identify the size of each dimension, too. For example, `T.zeros(3, 4)` will create the matrix\n",
        "\n",
        "$$\\left[ \n",
        "\\begin{array}{cccc}\n",
        "    0 & 0 & 0 & 0 \\\\\n",
        "    0 & 0 & 0 & 0 \\\\\n",
        "    0 & 0 & 0 & 0\n",
        "\\end{array} \\right]_{3 \\times 4}\n",
        "$$"
      ]
    },
    {
      "metadata": {
        "id": "-VHXMFHi1zS7",
        "colab_type": "code",
        "colab": {
          "base_uri": "https://localhost:8080/",
          "height": 68
        },
        "outputId": "3182c0d9-c7f2-4470-9044-4218028c39ed"
      },
      "cell_type": "code",
      "source": [
        "mat1 = T.zeros(3, 4)     # Change the number of elements on any dimension.\n",
        "print(mat1)"
      ],
      "execution_count": 0,
      "outputs": [
        {
          "output_type": "stream",
          "text": [
            "tensor([[0., 0., 0., 0.],\n",
            "        [0., 0., 0., 0.],\n",
            "        [0., 0., 0., 0.]])\n"
          ],
          "name": "stdout"
        }
      ]
    },
    {
      "metadata": {
        "id": "i4h4lg6V1zS_",
        "colab_type": "text"
      },
      "cell_type": "markdown",
      "source": [
        "**1-Vector:** We define a 1-matrix with `T.ones` in the same fashion. For example, `T.ones(3, 4)` will create the matrix\n",
        "\n",
        "$$\\left[ \n",
        "\\begin{array}{cccc}\n",
        "    1 & 1 & 1 & 1 \\\\\n",
        "    1 & 1 & 1 & 1 \\\\\n",
        "    1 & 1 & 1 & 1\n",
        "\\end{array} \\right]_{3 \\times 4}\n",
        "$$"
      ]
    },
    {
      "metadata": {
        "id": "kp53VWKT1zTA",
        "colab_type": "code",
        "colab": {
          "base_uri": "https://localhost:8080/",
          "height": 68
        },
        "outputId": "83ba483c-1936-400e-b920-5f48bf9fa7d8"
      },
      "cell_type": "code",
      "source": [
        "mat2 = T.ones(3, 4)      # Change the number of elements on any dimension.\n",
        "print(mat2)"
      ],
      "execution_count": 0,
      "outputs": [
        {
          "output_type": "stream",
          "text": [
            "tensor([[1., 1., 1., 1.],\n",
            "        [1., 1., 1., 1.],\n",
            "        [1., 1., 1., 1.]])\n"
          ],
          "name": "stdout"
        }
      ]
    },
    {
      "metadata": {
        "id": "4862JUUu1zTE",
        "colab_type": "text"
      },
      "cell_type": "markdown",
      "source": [
        "**Identity Matrix:** This is how you define an identity matrix with `T.eye`. For example, `T.eye(3)` will create the 3-dimensional identity matrix\n",
        "\n",
        "$$\\left[ \n",
        "\\begin{array}{ccc}\n",
        "    1 & 0 & 0 \\\\\n",
        "    0 & 1 & 0 \\\\\n",
        "    0 & 0 & 1\n",
        "\\end{array} \\right]_{3 \\times 3}\n",
        "$$"
      ]
    },
    {
      "metadata": {
        "id": "E7R0wg1b1zTF",
        "colab_type": "code",
        "colab": {
          "base_uri": "https://localhost:8080/",
          "height": 68
        },
        "outputId": "e977b4fa-dd41-49bd-e984-21db6c53d3b4"
      },
      "cell_type": "code",
      "source": [
        "mat3 = T.eye(3, 4)       # Change the number of elements on any dimension.\n",
        "print(mat3)"
      ],
      "execution_count": 0,
      "outputs": [
        {
          "output_type": "stream",
          "text": [
            "tensor([[1., 0., 0., 0.],\n",
            "        [0., 1., 0., 0.],\n",
            "        [0., 0., 1., 0.]])\n"
          ],
          "name": "stdout"
        }
      ]
    },
    {
      "metadata": {
        "id": "Or_M7AFG1zTR",
        "colab_type": "text"
      },
      "cell_type": "markdown",
      "source": [
        "**Randomized Matrix:** We define a randomized matrix with `T.randn`."
      ]
    },
    {
      "metadata": {
        "id": "WcBkP-F71zTS",
        "colab_type": "code",
        "colab": {
          "base_uri": "https://localhost:8080/",
          "height": 68
        },
        "outputId": "76a0f0b5-c32c-4215-f303-35dfb3617814"
      },
      "cell_type": "code",
      "source": [
        "mat_rand = T.randn(3, 4)        # Change the number of elements on any dimension.\n",
        "print(mat_rand)"
      ],
      "execution_count": 0,
      "outputs": [
        {
          "output_type": "stream",
          "text": [
            "tensor([[-0.2418, -1.0089, -0.4328,  0.9259],\n",
            "        [ 0.6646, -0.2759, -0.0984,  0.2388],\n",
            "        [ 0.9552,  0.1929, -0.1551, -0.5510]])\n"
          ],
          "name": "stdout"
        }
      ]
    },
    {
      "metadata": {
        "id": "kKxCIwcf1zTL",
        "colab_type": "text"
      },
      "cell_type": "markdown",
      "source": [
        "**Custom Matrix:** A custom matrix can be defined with `T.FloatTensor`. Notice that a 2-dimensional matrix is just a list of lists. Here we define the matrix\n",
        "\n",
        "$$\n",
        "\\left[ \\begin{array}{ccc}\n",
        "    1 & 2 & 3 \\\\\n",
        "    4 & 5 & 6\n",
        "\\end{array} \\right]_{2 \\times 3}\n",
        "$$\n",
        "\n",
        "Each row becomes a list. For example, the first row becomes `[1, 2, 3]`, and the second row, `[4, 5, 6]`."
      ]
    },
    {
      "metadata": {
        "id": "oU_l56By1zTM",
        "colab_type": "code",
        "colab": {
          "base_uri": "https://localhost:8080/",
          "height": 51
        },
        "outputId": "726a75f1-ba24-4f76-ba78-e874b39d0bb8"
      },
      "cell_type": "code",
      "source": [
        "# Play with the elements, rows, or columns for more fun.\n",
        "mat4 = T.FloatTensor( [ [1, 2, 3],\n",
        "                        [4, 5, 6] ] )\n",
        "print(mat4)"
      ],
      "execution_count": 0,
      "outputs": [
        {
          "output_type": "stream",
          "text": [
            "tensor([[1., 2., 3.],\n",
            "        [4., 5., 6.]])\n"
          ],
          "name": "stdout"
        }
      ]
    },
    {
      "metadata": {
        "id": "vqLWacfmmAGb",
        "colab_type": "text"
      },
      "cell_type": "markdown",
      "source": [
        "**Size:** We can also find the size of a matrix with the method `size()`."
      ]
    },
    {
      "metadata": {
        "id": "Ptrvcsc3mIR2",
        "colab_type": "code",
        "colab": {
          "base_uri": "https://localhost:8080/",
          "height": 34
        },
        "outputId": "47ea98a2-a781-494a-84aa-b6b45339af5b"
      },
      "cell_type": "code",
      "source": [
        "print(mat4.size())"
      ],
      "execution_count": 0,
      "outputs": [
        {
          "output_type": "stream",
          "text": [
            "torch.Size([2, 3])\n"
          ],
          "name": "stdout"
        }
      ]
    },
    {
      "metadata": {
        "id": "aEEq17wP1zTX",
        "colab_type": "text"
      },
      "cell_type": "markdown",
      "source": [
        "**Cell Indexing and Setting:** We can refer to a particular cell of a matrix by indexing `[]`."
      ]
    },
    {
      "metadata": {
        "id": "ZFCPyz311zTY",
        "colab_type": "code",
        "colab": {
          "base_uri": "https://localhost:8080/",
          "height": 34
        },
        "outputId": "dfce8f43-3dab-4b1f-84c7-b0a3cc2f8b8e"
      },
      "cell_type": "code",
      "source": [
        "print(mat4[0,1])            # cell (1,2)"
      ],
      "execution_count": 0,
      "outputs": [
        {
          "output_type": "stream",
          "text": [
            "tensor(2.)\n"
          ],
          "name": "stdout"
        }
      ]
    },
    {
      "metadata": {
        "id": "BYEO2joc1zTc",
        "colab_type": "code",
        "colab": {
          "base_uri": "https://localhost:8080/",
          "height": 34
        },
        "outputId": "b99f506c-a6ec-407a-b10b-f442b904f8fa"
      },
      "cell_type": "code",
      "source": [
        "print(mat4[1,2])            # cell (2,3)"
      ],
      "execution_count": 0,
      "outputs": [
        {
          "output_type": "stream",
          "text": [
            "tensor(6.)\n"
          ],
          "name": "stdout"
        }
      ]
    },
    {
      "metadata": {
        "id": "uSs9cF4c1zTg",
        "colab_type": "code",
        "colab": {
          "base_uri": "https://localhost:8080/",
          "height": 119
        },
        "outputId": "494e21c9-d9e7-49f8-a263-b14eb1553181"
      },
      "cell_type": "code",
      "source": [
        "mat4 = T.FloatTensor( [ [1, 2, 3],\n",
        "                        [4, 5, 6] ] )\n",
        "\n",
        "print('Before: mat4 =\\n{}'.format(mat4))\n",
        "mat4[1,2] = 100             # Set the value of cell (2,3) to be 100.\n",
        "print('After : mat4 =\\n{}'.format(mat4))"
      ],
      "execution_count": 0,
      "outputs": [
        {
          "output_type": "stream",
          "text": [
            "Before: mat4 =\n",
            "tensor([[1., 2., 3.],\n",
            "        [4., 5., 6.]])\n",
            "After : mat4 =\n",
            "tensor([[  1.,   2.,   3.],\n",
            "        [  4.,   5., 100.]])\n"
          ],
          "name": "stdout"
        }
      ]
    },
    {
      "metadata": {
        "id": "9o_PV9Xh1zTk",
        "colab_type": "text"
      },
      "cell_type": "markdown",
      "source": [
        "**Row Indexing:** We can index a row of a matrix by `[]`, too."
      ]
    },
    {
      "metadata": {
        "id": "au8uAGgJ1zTl",
        "colab_type": "code",
        "colab": {
          "base_uri": "https://localhost:8080/",
          "height": 51
        },
        "outputId": "d65ee212-3a79-4e08-b34c-857047a6d514"
      },
      "cell_type": "code",
      "source": [
        "mat5 = T.FloatTensor( [ [1, 2, 3],\n",
        "                        [4, 5, 6] ] )\n",
        "\n",
        "print('row 1 of mat5 = {}'.format(mat5[0]))\n",
        "print('row 2 of mat5 = {}'.format(mat5[1]))"
      ],
      "execution_count": 0,
      "outputs": [
        {
          "output_type": "stream",
          "text": [
            "row 1 of mat5 = tensor([1., 2., 3.])\n",
            "row 2 of mat5 = tensor([4., 5., 6.])\n"
          ],
          "name": "stdout"
        }
      ]
    },
    {
      "metadata": {
        "id": "WEPz1E1u1zTp",
        "colab_type": "text"
      },
      "cell_type": "markdown",
      "source": [
        "**Row Setting:** Setting a row is as simple. For example, we can replace the first row of `mat5` by setting `mat5[0]` to be another vector."
      ]
    },
    {
      "metadata": {
        "id": "QKjboPlV1zTq",
        "colab_type": "code",
        "colab": {
          "base_uri": "https://localhost:8080/",
          "height": 119
        },
        "outputId": "3ec41f74-f9a8-43b6-d57a-677720c7645b"
      },
      "cell_type": "code",
      "source": [
        "mat5 = T.FloatTensor( [ [1, 2, 3],\n",
        "                        [4, 5, 6] ] )\n",
        "\n",
        "print('Before: mat5 =\\n{}'.format(mat5))\n",
        "mat5[0] = T.FloatTensor([7, 8, 9])\n",
        "print('After : mat5 =\\n{}'.format(mat5))"
      ],
      "execution_count": 0,
      "outputs": [
        {
          "output_type": "stream",
          "text": [
            "Before: mat5 =\n",
            "tensor([[1., 2., 3.],\n",
            "        [4., 5., 6.]])\n",
            "After : mat5 =\n",
            "tensor([[7., 8., 9.],\n",
            "        [4., 5., 6.]])\n"
          ],
          "name": "stdout"
        }
      ]
    },
    {
      "metadata": {
        "id": "SOE_cmxV1zTt",
        "colab_type": "text"
      },
      "cell_type": "markdown",
      "source": [
        "**Column Indexing:** We can also get access to a column of a matrix by replacing the row index with `:`."
      ]
    },
    {
      "metadata": {
        "id": "pNMpb1ji1zTu",
        "colab_type": "code",
        "colab": {
          "base_uri": "https://localhost:8080/",
          "height": 68
        },
        "outputId": "35187c29-8092-4c21-d0f7-f8d8580f8baa"
      },
      "cell_type": "code",
      "source": [
        "mat6 = T.FloatTensor( [ [1, 2, 3],\n",
        "                        [4, 5, 6] ] )\n",
        "\n",
        "print('column 1 of mat6 = {}'.format(mat6[:, 0]))\n",
        "print('column 2 of mat6 = {}'.format(mat6[:, 1]))\n",
        "print('column 3 of mat6 = {}'.format(mat6[:, 2]))"
      ],
      "execution_count": 0,
      "outputs": [
        {
          "output_type": "stream",
          "text": [
            "column 1 of mat6 = tensor([1., 4.])\n",
            "column 2 of mat6 = tensor([2., 5.])\n",
            "column 3 of mat6 = tensor([3., 6.])\n"
          ],
          "name": "stdout"
        }
      ]
    },
    {
      "metadata": {
        "id": "rgr4ls1Y1zTx",
        "colab_type": "text"
      },
      "cell_type": "markdown",
      "source": [
        "**Column Setting:** Setting a column can be as simple. For example, we can replace the first column of `mat6` by setting `mat6[:, 0]` to be another vector."
      ]
    },
    {
      "metadata": {
        "id": "vTNLyBuj1zTx",
        "colab_type": "code",
        "colab": {
          "base_uri": "https://localhost:8080/",
          "height": 119
        },
        "outputId": "8f8aa3c3-e1f6-4518-a0fe-9e39d7503995"
      },
      "cell_type": "code",
      "source": [
        "mat6 = T.FloatTensor( [ [1, 2, 3],\n",
        "                        [4, 5, 6] ] )\n",
        "\n",
        "print('Before: mat6 =\\n{}'.format(mat6))\n",
        "mat6[:, 0] = T.FloatTensor([7, 8])\n",
        "print('After : mat6 =\\n{}'.format(mat6))"
      ],
      "execution_count": 0,
      "outputs": [
        {
          "output_type": "stream",
          "text": [
            "Before: mat6 =\n",
            "tensor([[1., 2., 3.],\n",
            "        [4., 5., 6.]])\n",
            "After : mat6 =\n",
            "tensor([[7., 2., 3.],\n",
            "        [8., 5., 6.]])\n"
          ],
          "name": "stdout"
        }
      ]
    },
    {
      "metadata": {
        "id": "1wFXdfl-1zTz",
        "colab_type": "text"
      },
      "cell_type": "markdown",
      "source": [
        "-----"
      ]
    },
    {
      "metadata": {
        "id": "WNqZdH4b1zTz",
        "colab_type": "text"
      },
      "cell_type": "markdown",
      "source": [
        "## Matrix Computation"
      ]
    },
    {
      "metadata": {
        "id": "TvEtLIWZ1zT0",
        "colab_type": "text"
      },
      "cell_type": "markdown",
      "source": [
        "In PyTorch, vectors and matrices are treated similarly. Therefore, we can apply mathematical operations such as addition and multiplication on vectors and matrices, given that they have identical sizes.\n",
        "\n",
        "Let me define two matrices for our short demonstration."
      ]
    },
    {
      "metadata": {
        "id": "q7Fpitld1zT0",
        "colab_type": "code",
        "colab": {
          "base_uri": "https://localhost:8080/",
          "height": 119
        },
        "outputId": "42d3d70c-f2a6-4572-8d7b-3f7e2fe30c48"
      },
      "cell_type": "code",
      "source": [
        "m1 = T.FloatTensor( [ [1, 2, 3],\n",
        "                      [4, 5, 6] ] )\n",
        "m2 = T.FloatTensor( [ [ 7,  8,  9],\n",
        "                      [10, 11, 12] ] )\n",
        "print('m1 =\\n{}'.format(m1))\n",
        "print('m2 =\\n{}'.format(m2))"
      ],
      "execution_count": 0,
      "outputs": [
        {
          "output_type": "stream",
          "text": [
            "m1 =\n",
            "tensor([[1., 2., 3.],\n",
            "        [4., 5., 6.]])\n",
            "m2 =\n",
            "tensor([[ 7.,  8.,  9.],\n",
            "        [10., 11., 12.]])\n"
          ],
          "name": "stdout"
        }
      ]
    },
    {
      "metadata": {
        "id": "X_TWw4Tj1zT2",
        "colab_type": "text"
      },
      "cell_type": "markdown",
      "source": [
        "**Addition and Subtraction:** We use `+` and `-`, respectively."
      ]
    },
    {
      "metadata": {
        "id": "TRc0Ek7s1zT3",
        "colab_type": "text"
      },
      "cell_type": "markdown",
      "source": [
        "$$\n",
        "\\begin{eqnarray}\n",
        "\\left[ \\begin{array}{ccc}\n",
        "    1 & 2 & 3 \\\\\n",
        "    4 & 5 & 6\n",
        "\\end{array} \\right] + \\left[ \\begin{array}{ccc}\n",
        "    7 & 8 & 9 \\\\\n",
        "    10 & 11 & 12\n",
        "\\end{array} \\right] & = & \\left[ \\begin{array}{ccc}\n",
        "    8 & 10 & 12 \\\\\n",
        "    14 & 16 & 18\n",
        "\\end{array} \\right]\n",
        "\\end{eqnarray}\n",
        "$$"
      ]
    },
    {
      "metadata": {
        "id": "I8vgbSOQ1zT3",
        "colab_type": "code",
        "colab": {
          "base_uri": "https://localhost:8080/",
          "height": 68
        },
        "outputId": "8ba7eea5-c0e9-4274-f689-97cc4498ea66"
      },
      "cell_type": "code",
      "source": [
        "m_add = m1 + m2\n",
        "print('m1 + m2\\n{}'.format(m_add))"
      ],
      "execution_count": 0,
      "outputs": [
        {
          "output_type": "stream",
          "text": [
            "m1 + m2\n",
            "tensor([[ 8., 10., 12.],\n",
            "        [14., 16., 18.]])\n"
          ],
          "name": "stdout"
        }
      ]
    },
    {
      "metadata": {
        "id": "1JRPJXUz1zT6",
        "colab_type": "text"
      },
      "cell_type": "markdown",
      "source": [
        "$$\n",
        "\\begin{eqnarray}\n",
        "\\left[ \\begin{array}{ccc}\n",
        "    7 & 8 & 9 \\\\\n",
        "    10 & 11 & 12\n",
        "\\end{array} \\right] - \\left[ \\begin{array}{ccc}\n",
        "    1 & 2 & 3 \\\\\n",
        "    4 & 5 & 6\n",
        "\\end{array} \\right] & = & \\left[ \\begin{array}{ccc}\n",
        "    6 & 6 & 6 \\\\\n",
        "    6 & 6 & 6\n",
        "\\end{array} \\right]\n",
        "\\end{eqnarray}\n",
        "$$"
      ]
    },
    {
      "metadata": {
        "id": "yg8OReqZ1zT6",
        "colab_type": "code",
        "colab": {
          "base_uri": "https://localhost:8080/",
          "height": 68
        },
        "outputId": "becb283f-4a7d-4217-e659-6e67b6138738"
      },
      "cell_type": "code",
      "source": [
        "m_sub = m2 - m1\n",
        "print('m2 - m1\\n{}'.format(m_sub))"
      ],
      "execution_count": 0,
      "outputs": [
        {
          "output_type": "stream",
          "text": [
            "m2 - m1\n",
            "tensor([[6., 6., 6.],\n",
            "        [6., 6., 6.]])\n"
          ],
          "name": "stdout"
        }
      ]
    },
    {
      "metadata": {
        "id": "vKMlF0OX1zT8",
        "colab_type": "text"
      },
      "cell_type": "markdown",
      "source": [
        "**Transpose**: We use the method `t()` to transpose a matrix.\n",
        "\n",
        "$$\n",
        "\\begin{eqnarray}\n",
        "\\left[ \\begin{array}{ccc}\n",
        "    1 & 2 & 3 \\\\\n",
        "    4 & 5 & 6\n",
        "\\end{array} \\right]^\\top & = & \\left[ \\begin{array}{cc}\n",
        "    1 & 4 \\\\\n",
        "    2 & 5 \\\\\n",
        "    3 & 6\n",
        "\\end{array} \\right]\n",
        "\\end{eqnarray}\n",
        "$$"
      ]
    },
    {
      "metadata": {
        "id": "-os4G_O21zT8",
        "colab_type": "code",
        "colab": {
          "base_uri": "https://localhost:8080/",
          "height": 85
        },
        "outputId": "d83818a4-5817-4102-d2a1-366d493c845b"
      },
      "cell_type": "code",
      "source": [
        "m_trans = m1.t()\n",
        "print('transpose(m1)\\n{}'.format(m_trans))"
      ],
      "execution_count": 0,
      "outputs": [
        {
          "output_type": "stream",
          "text": [
            "transpose(m1)\n",
            "tensor([[1., 4.],\n",
            "        [2., 5.],\n",
            "        [3., 6.]])\n"
          ],
          "name": "stdout"
        }
      ]
    },
    {
      "metadata": {
        "id": "WaIqm1e-1zT9",
        "colab_type": "text"
      },
      "cell_type": "markdown",
      "source": [
        "**Scalar Multiplication:** We simply use the operator `*`."
      ]
    },
    {
      "metadata": {
        "id": "hMEC2wrU1zT-",
        "colab_type": "text"
      },
      "cell_type": "markdown",
      "source": [
        "$$\n",
        "\\begin{eqnarray}\n",
        "4 \\times \\left[ \\begin{array}{ccc}\n",
        "    1 & 2 & 3 \\\\\n",
        "    4 & 5 & 6\n",
        "\\end{array} \\right] & = & \\left[ \\begin{array}{ccc}\n",
        "    4 & 8 & 12 \\\\\n",
        "    16 & 20 & 24\n",
        "\\end{array} \\right]\n",
        "\\end{eqnarray}\n",
        "$$"
      ]
    },
    {
      "metadata": {
        "id": "SVV9hBrG1zT_",
        "colab_type": "code",
        "colab": {
          "base_uri": "https://localhost:8080/",
          "height": 68
        },
        "outputId": "a2cdf1f7-5ea4-4a9c-ff2c-ddb52ce96876"
      },
      "cell_type": "code",
      "source": [
        "m_smult = 4 * m1\n",
        "print('4 × m1\\n{}'.format(m_smult))"
      ],
      "execution_count": 0,
      "outputs": [
        {
          "output_type": "stream",
          "text": [
            "4 × m1\n",
            "tensor([[ 4.,  8., 12.],\n",
            "        [16., 20., 24.]])\n"
          ],
          "name": "stdout"
        }
      ]
    },
    {
      "metadata": {
        "id": "OzTMOYqG1zUC",
        "colab_type": "text"
      },
      "cell_type": "markdown",
      "source": [
        "**Matrix Multiplication:** We use the method `matmul` of the first operand. Do *NOT* use the operator `*` as it is for element-wise multiplication.\n",
        "\n",
        "$$\n",
        "\\begin{eqnarray}\n",
        "\\left[ \\begin{array}{ccc}\n",
        "    1 & 2 & 3 \\\\\n",
        "    4 & 5 & 6\n",
        "\\end{array} \\right]_{2 \\times 3} \\times \\left[ \\begin{array}{cc}\n",
        "    7 & 10 \\\\\n",
        "    8 & 11 \\\\\n",
        "    9 & 12\n",
        "\\end{array} \\right]_{3 \\times 2} & = & \\left[ \\begin{array}{cc}\n",
        "    50 & 68 \\\\\n",
        "    122 & 167\n",
        "\\end{array} \\right]_{2 \\times 2}\n",
        "\\end{eqnarray}\n",
        "$$"
      ]
    },
    {
      "metadata": {
        "id": "k81oSokF1zUC",
        "colab_type": "code",
        "colab": {
          "base_uri": "https://localhost:8080/",
          "height": 68
        },
        "outputId": "f1c2703f-ecf9-41df-ec49-d8f7044e8d21"
      },
      "cell_type": "code",
      "source": [
        "m_mult = m1.matmul(m2.t())\n",
        "print('m1 × transpose(m2)\\n{}'.format(m_mult))"
      ],
      "execution_count": 0,
      "outputs": [
        {
          "output_type": "stream",
          "text": [
            "m1 × transpose(m2)\n",
            "tensor([[ 50.,  68.],\n",
            "        [122., 167.]])\n"
          ],
          "name": "stdout"
        }
      ]
    },
    {
      "metadata": {
        "id": "QoKlZ8mU1zUE",
        "colab_type": "text"
      },
      "cell_type": "markdown",
      "source": [
        "Notice that multiplication of `m1` and `m2` would not work due to dimension mismatch.\n",
        "\n",
        "$$\n",
        "\\left[ \\begin{array}{ccc}\n",
        "    1 & 2 & 3 \\\\\n",
        "    4 & 5 & 6\n",
        "\\end{array} \\right]_{2 \\times 3} \\times \\left[ \\begin{array}{ccc}\n",
        "    7 & 8 & 9 \\\\\n",
        "    10 & 11 & 12\n",
        "\\end{array} \\right]_{2 \\times 3}\n",
        "$$"
      ]
    },
    {
      "metadata": {
        "id": "h3KoJ6td1zUE",
        "colab_type": "code",
        "colab": {}
      },
      "cell_type": "code",
      "source": [
        "# print(m1.matmul(m2))       # This will cause an error message."
      ],
      "execution_count": 0,
      "outputs": []
    },
    {
      "metadata": {
        "id": "s3yC2MOZ1zUF",
        "colab_type": "text"
      },
      "cell_type": "markdown",
      "source": [
        "**Element-wise Multiplication:** We use the operator `*` for element-wise multiplication.\n",
        "\n",
        "$$\n",
        "\\begin{eqnarray}\n",
        "\\left[ \\begin{array}{ccc}\n",
        "    1 & 2 & 3 \\\\\n",
        "    4 & 5 & 6\n",
        "\\end{array} \\right]_{2 \\times 3} \\otimes \\left[ \\begin{array}{ccc}\n",
        "    7 & 8 & 9 \\\\\n",
        "    10 & 11 & 12\n",
        "\\end{array} \\right]_{2 \\times 3} & = & \\left[ \\begin{array}{ccc}\n",
        "    7 & 16 & 27 \\\\\n",
        "    40 & 55 & 72\n",
        "\\end{array} \\right]_{2 \\times 3}\n",
        "\\end{eqnarray}\n",
        "$$"
      ]
    },
    {
      "metadata": {
        "id": "KaJtvi781zUG",
        "colab_type": "code",
        "colab": {
          "base_uri": "https://localhost:8080/",
          "height": 68
        },
        "outputId": "9bed559c-24df-49f1-eae0-17bcc6970fa6"
      },
      "cell_type": "code",
      "source": [
        "m_emult = m1 * m2\n",
        "print('m1 * m2\\n{}'.format(m_emult))"
      ],
      "execution_count": 0,
      "outputs": [
        {
          "output_type": "stream",
          "text": [
            "m1 * m2\n",
            "tensor([[ 7., 16., 27.],\n",
            "        [40., 55., 72.]])\n"
          ],
          "name": "stdout"
        }
      ]
    },
    {
      "metadata": {
        "id": "7qHtzf0q1zUJ",
        "colab_type": "text"
      },
      "cell_type": "markdown",
      "source": [
        "-----"
      ]
    },
    {
      "metadata": {
        "id": "PYshfh5X1zUK",
        "colab_type": "text"
      },
      "cell_type": "markdown",
      "source": [
        "## Exercises"
      ]
    },
    {
      "metadata": {
        "id": "PXSpvbwT1zUK",
        "colab_type": "text"
      },
      "cell_type": "markdown",
      "source": [
        "1. Define the following matrices and compute $\\mathbf{A} + \\mathbf{B} + 4 \\mathbf{C}$, where\n",
        "\n",
        "$$\n",
        "\\begin{eqnarray}\n",
        "    \\mathbf{A} & = & \\left[ \\begin{array}{ccc}\n",
        "        0 & 0 & 0 \\\\\n",
        "        0 & 0 & 0\n",
        "    \\end{array} \\right] \\\\\n",
        "    \\mathbf{B} & = & \\left[ \\begin{array}{ccc}\n",
        "        1 & 1 & 1 \\\\\n",
        "        1 & 1 & 1\n",
        "    \\end{array} \\right] \\\\\n",
        "    \\mathbf{C} & = & \\left[ \\begin{array}{ccc}\n",
        "        1 & 0 & 0 \\\\\n",
        "        0 & 1 & 0\n",
        "    \\end{array} \\right] \\\\\n",
        "\\end{eqnarray}\n",
        "$$"
      ]
    },
    {
      "metadata": {
        "id": "qFhU4CuA1zUL",
        "colab_type": "code",
        "colab": {
          "base_uri": "https://localhost:8080/",
          "height": 51
        },
        "outputId": "d25ec41f-a0dc-4c46-8ab6-651a32a8d026"
      },
      "cell_type": "code",
      "source": [
        "mat_a = T.zeros( 2 , 3 )        # Fill in these blanks\n",
        "mat_b = T.ones( 2 , 3 )         # Fill in these blanks\n",
        "mat_c = T.eye( 2 , 3 )          # Fill in these blanks\n",
        "result = mat_a + mat_b + 4 * mat_c       # Fill in this blank\n",
        "print(result)"
      ],
      "execution_count": 0,
      "outputs": [
        {
          "output_type": "stream",
          "text": [
            "tensor([[5., 1., 1.],\n",
            "        [1., 5., 1.]])\n"
          ],
          "name": "stdout"
        }
      ]
    },
    {
      "metadata": {
        "id": "1u5_qDKn1zUM",
        "colab_type": "text"
      },
      "cell_type": "markdown",
      "source": [
        "2. Compute $\\mathbf{A}^\\top \\times \\mathbf{A}$, where $\\mathbf{A}$ is a randomized vector of dimensions $(3, 4)$."
      ]
    },
    {
      "metadata": {
        "id": "ZYRxKzAU1zUN",
        "colab_type": "code",
        "colab": {
          "base_uri": "https://localhost:8080/",
          "height": 85
        },
        "outputId": "02eb26c9-36a9-40c2-f692-84a5169d957c"
      },
      "cell_type": "code",
      "source": [
        "mat_a = T.randn( 3 , 4 )        # Fill in these blanks\n",
        "result = mat_a.t().matmul(mat_a)     # Fill in this blank\n",
        "print(result)"
      ],
      "execution_count": 0,
      "outputs": [
        {
          "output_type": "stream",
          "text": [
            "tensor([[ 1.6939, -0.5712, -0.9078,  1.1767],\n",
            "        [-0.5712,  2.1705, -0.3636, -0.3985],\n",
            "        [-0.9078, -0.3636,  0.8973, -1.1082],\n",
            "        [ 1.1767, -0.3985, -1.1082,  2.0597]])\n"
          ],
          "name": "stdout"
        }
      ]
    },
    {
      "metadata": {
        "id": "ghLzw4ef1zUO",
        "colab_type": "text"
      },
      "cell_type": "markdown",
      "source": [
        "3. Compute $ \\left( \\mathbf{A} \\otimes \\mathbf{B} \\right)^\\top \\times \\mathbf{C}^\\top $, where $\\mathbf{A}$, $\\mathbf{B}$, and $\\mathbf{C}$ are randomized matrices of sizes (2, 3), (2, 3), and (3, 2), respectively."
      ]
    },
    {
      "metadata": {
        "id": "0pWOZK4B1zUO",
        "colab_type": "code",
        "colab": {
          "base_uri": "https://localhost:8080/",
          "height": 68
        },
        "outputId": "5e9f11e4-7bf2-4f0c-ff03-bc4a9c5c2042"
      },
      "cell_type": "code",
      "source": [
        "mat_a = T.randn( 2 , 3 )        # Fill in these blanks\n",
        "mat_b = T.randn( 2 , 3 )        # Fill in these blanks\n",
        "mat_c = T.randn( 3 , 2 )        # Fill in these blanks\n",
        "result = (mat_a * mat_b).t().matmul(mat_c.t())      # Fill in this blank\n",
        "print(result)"
      ],
      "execution_count": 0,
      "outputs": [
        {
          "output_type": "stream",
          "text": [
            "tensor([[ 0.4384,  1.3120, -2.1706],\n",
            "        [ 0.7863,  1.4712, -1.0616],\n",
            "        [ 0.0168, -0.0603,  0.2720]])\n"
          ],
          "name": "stdout"
        }
      ]
    },
    {
      "metadata": {
        "id": "39aj11IU1zUQ",
        "colab_type": "text"
      },
      "cell_type": "markdown",
      "source": [
        "4. Compute $ \\mathbf{R} = \\mathbf{A}^\\top \\times \\mathbf{A} $, where $\\mathbf{A}$ is a randomized matrix of sizes (3, 4). Then replace the first column with"
      ]
    },
    {
      "metadata": {
        "id": "Bqqs-2wQ1zUQ",
        "colab_type": "code",
        "colab": {
          "base_uri": "https://localhost:8080/",
          "height": 85
        },
        "outputId": "670e65c4-aa61-4826-ec09-038c2960f923"
      },
      "cell_type": "code",
      "source": [
        "mat_a = T.randn(3, 4)\n",
        "mat_r = mat_a.t().matmul(mat_a)\n",
        "print(mat_r)"
      ],
      "execution_count": 0,
      "outputs": [
        {
          "output_type": "stream",
          "text": [
            "tensor([[ 3.8523,  1.3193, -3.4558, -1.4172],\n",
            "        [ 1.3193,  2.0479, -0.4592, -0.5778],\n",
            "        [-3.4558, -0.4592,  3.4425,  1.3251],\n",
            "        [-1.4172, -0.5778,  1.3251,  1.1983]])\n"
          ],
          "name": "stdout"
        }
      ]
    }
  ]
}